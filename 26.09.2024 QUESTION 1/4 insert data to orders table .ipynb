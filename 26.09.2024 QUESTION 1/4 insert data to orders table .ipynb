{
 "cells": [
  {
   "cell_type": "code",
   "execution_count": null,
   "metadata": {
    "vscode": {
     "languageId": "sql"
    }
   },
   "outputs": [],
   "source": [
    "-- 4 insert data to orders table\n",
    "\n",
    "insert into orders (orderid, productid, quantity, orderdate)\n",
    "values\n",
    "\t(1, 1, 2, '2023-07-01'),\n",
    "\t(2, 2, 1, '2023-07-02'),\n",
    "\t(3, 3, 5, '2023-07-03'),\n",
    "\t(4, 1, 3,'2023-07-04'),\n",
    "\t(5, 5, 2, '2023-07-05'),\n",
    "\t(6, 6, 1, '2023-07-06'),\n",
    "\t(7, 2, 4,'2023-07-07'),\n",
    "\t(8, 8, 3, '2023-07-08'),\n",
    "\t(9, 9, 1, '2023-07-09'),\n",
    "\t(10, 10, 2, '2023-07-10')"
   ]
  }
 ],
 "metadata": {
  "language_info": {
   "name": "python"
  }
 },
 "nbformat": 4,
 "nbformat_minor": 2
}
