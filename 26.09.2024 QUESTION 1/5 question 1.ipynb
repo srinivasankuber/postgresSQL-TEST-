{
 "cells": [
  {
   "cell_type": "code",
   "execution_count": null,
   "metadata": {},
   "outputs": [],
   "source": [
    "--1 find the products that have not been orderd at all\n",
    "\n",
    "\n",
    "SELECT  p.productname\n",
    "FROM products p\n",
    "LEFT JOIN orders o ON p.productid = o.productid\n",
    "WHERE o.orderid IS NULL;\n",
    "\n"
   ]
  }
 ],
 "metadata": {
  "language_info": {
   "name": "python"
  }
 },
 "nbformat": 4,
 "nbformat_minor": 2
}
