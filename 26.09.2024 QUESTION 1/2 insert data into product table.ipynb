{
 "cells": [
  {
   "cell_type": "code",
   "execution_count": null,
   "metadata": {
    "vscode": {
     "languageId": "sql"
    }
   },
   "outputs": [],
   "source": [
    "-- 2 insert data to product table\n",
    "insert into products (productid, productname, productprice)\n",
    "values \n",
    "\t(1, 'product a', 10),\n",
    "\t(2, 'product b', 15),\n",
    "\t(3, 'product c', 20),\n",
    "\t(4, 'product d', 25),\n",
    "\t(5, 'product e', 30),\n",
    "\t(6, 'product f', 35),\n",
    "\t(7, 'product g', 40),\n",
    "\t(8, 'product h', 45),\n",
    "\t(9, 'product i', 50),\n",
    "\t(10, 'product j',55)"
   ]
  }
 ],
 "metadata": {
  "language_info": {
   "name": "python"
  }
 },
 "nbformat": 4,
 "nbformat_minor": 2
}
