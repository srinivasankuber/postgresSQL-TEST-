{
 "cells": [
  {
   "cell_type": "code",
   "execution_count": null,
   "metadata": {},
   "outputs": [],
   "source": [
    "--3 create table orders\n",
    "\n",
    "create table orders\n",
    "(\n",
    "orderid integer,\n",
    "productid integer,\n",
    "quantity integer,\n",
    "orderdate date,\n",
    "foreign key (productid) references products(productid)\n",
    ")"
   ]
  }
 ],
 "metadata": {
  "language_info": {
   "name": "python"
  }
 },
 "nbformat": 4,
 "nbformat_minor": 2
}
