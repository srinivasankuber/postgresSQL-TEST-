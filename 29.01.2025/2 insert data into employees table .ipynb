{
 "cells": [
  {
   "cell_type": "code",
   "execution_count": null,
   "metadata": {
    "vscode": {
     "languageId": "sql"
    }
   },
   "outputs": [],
   "source": [
    "-- 2 insert data into employees table \n",
    "\n",
    "INSERT INTO employees (first_name, last_name, department, salary, hire_date)  \n",
    "VALUES \n",
    "    ('Aravind', 'Kumar', 'Finance', 75000.00, '2022-03-15'),\n",
    "    ('Nikitha', 'Rao', 'HR', 60000.00, '2021-07-22'),\n",
    "    ('Ram', 'Sharma', 'IT', 85000.00, '2020-09-10'),\n",
    "    ('Mark', 'Johnson', 'HR', 62000.00, '2019-05-14'),\n",
    "    ('Sita', 'Verma', 'Finance', 72000.00, '2023-01-20');\n"
   ]
  }
 ],
 "metadata": {
  "language_info": {
   "name": "python"
  }
 },
 "nbformat": 4,
 "nbformat_minor": 2
}
