{
 "cells": [
  {
   "cell_type": "code",
   "execution_count": null,
   "metadata": {
    "vscode": {
     "languageId": "sql"
    }
   },
   "outputs": [],
   "source": [
    "--  3 QUESTION \n",
    "\n",
    "-- Retrieve all products that belong to the 'Electronics' category and have a price greater than 35,000.\n",
    "\n",
    "select * \n",
    "from products\n",
    "where category = 'Electronics' and price > 35,000\n",
    "\n"
   ]
  }
 ],
 "metadata": {
  "language_info": {
   "name": "python"
  }
 },
 "nbformat": 4,
 "nbformat_minor": 2
}
