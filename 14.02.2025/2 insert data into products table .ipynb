{
 "cells": [
  {
   "cell_type": "code",
   "execution_count": null,
   "metadata": {
    "vscode": {
     "languageId": "sql"
    }
   },
   "outputs": [],
   "source": [
    "-- 2 insert data into products table \n",
    "\n",
    "INSERT INTO products (product_name, category, price, stock_quantity) VALUES\n",
    "('Laptop', 'Electronics', 75000, 10),\n",
    "('Smartphone', 'Electronics', 40000, 25),\n",
    "('Tablet', 'Electronics', 30000, 15),\n",
    "('Desk Chair', 'Furniture', 5000, 20),\n",
    "('Sofa', 'Furniture', 25000, 5);\n"
   ]
  }
 ],
 "metadata": {
  "language_info": {
   "name": "python"
  }
 },
 "nbformat": 4,
 "nbformat_minor": 2
}
