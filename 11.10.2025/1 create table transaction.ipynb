{
 "cells": [
  {
   "cell_type": "code",
   "execution_count": null,
   "metadata": {
    "vscode": {
     "languageId": "sql"
    }
   },
   "outputs": [],
   "source": [
    "--  1 create table transaction\n",
    "\n",
    "CREATE TABLE transactionss (\n",
    " category VARCHAR(50),\n",
    " product VARCHAR(50),\n",
    " user_id INT,\n",
    " spend DECIMAL(10, 2),\n",
    " transaction_date TIMESTAMP\n",
    ");\n"
   ]
  }
 ],
 "metadata": {
  "language_info": {
   "name": "python"
  }
 },
 "nbformat": 4,
 "nbformat_minor": 2
}
