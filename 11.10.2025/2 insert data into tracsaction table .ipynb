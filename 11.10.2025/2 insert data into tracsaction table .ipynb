{
 "cells": [
  {
   "cell_type": "code",
   "execution_count": null,
   "metadata": {
    "vscode": {
     "languageId": "sql"
    }
   },
   "outputs": [],
   "source": [
    "-- 2 insert data into transaction  table \n",
    "\n",
    "INSERT INTO transactionss (category, product, user_id, spend, transaction_date) VALUES\n",
    "('appliance', 'refrigerator', 165, 246.00, '2021-12-26 12:00:00'),\n",
    "('appliance', 'refrigerator', 123, 299.99, '2022-03-02 12:00:00'),\n",
    "('appliance', 'washing machine', 123, 219.80, '2022-03-02 12:00:00'),\n",
    "('electronics', 'vacuum', 178, 152.00, '2022-04-05 12:00:00'),\n",
    "('electronics', 'wireless headset', 156, 249.90, '2022-07-08 12:00:00'),\n",
    "('electronics', 'vacuum', 145, 189.00, '2022-07-15 12:00:00');\n",
    "\n"
   ]
  }
 ],
 "metadata": {
  "language_info": {
   "name": "python"
  }
 },
 "nbformat": 4,
 "nbformat_minor": 2
}
