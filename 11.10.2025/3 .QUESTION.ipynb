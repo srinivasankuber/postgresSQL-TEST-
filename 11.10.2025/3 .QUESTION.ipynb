{
 "cells": [
  {
   "cell_type": "code",
   "execution_count": null,
   "metadata": {
    "vscode": {
     "languageId": "sql"
    }
   },
   "outputs": [],
   "source": [
    "--  QUESTION\n",
    "\n",
    "\n",
    "-- Find the top two\n",
    "-- highest-grossing products in each\n",
    "-- category for the year 2022 from a\n",
    "-- table product_spend. The table\n",
    "-- contains category, product, user_id,\n",
    "-- spend, and transaction_date. The\n",
    "-- output should include the category,\n",
    "-- product, and total spend.\n",
    "\n",
    "select  category, product, user_id, SUM(spend) AS total_spend, transaction_date\n",
    "from transactionss\n",
    "where  extract(year from transaction_date) = 2022\n",
    "group by category, product, user_id, transaction_date\n",
    "order  by category, total_spend desc\n",
    "limit 4\n",
    "\n",
    "\n",
    "\n"
   ]
  }
 ],
 "metadata": {
  "language_info": {
   "name": "python"
  }
 },
 "nbformat": 4,
 "nbformat_minor": 2
}
