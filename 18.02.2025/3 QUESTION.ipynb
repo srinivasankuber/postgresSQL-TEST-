{
 "cells": [
  {
   "cell_type": "code",
   "execution_count": null,
   "metadata": {
    "vscode": {
     "languageId": "sql"
    }
   },
   "outputs": [],
   "source": [
    "-- 3 QUESTION \n",
    "\n",
    "-- Find the top 3 most expensive products along with their category and price.\n",
    "\n",
    "SELECT name, category, price \n",
    "FROM products \n",
    "ORDER BY price DESC \n",
    "LIMIT 3;\n",
    "\n",
    "\n"
   ]
  }
 ],
 "metadata": {
  "language_info": {
   "name": "python"
  }
 },
 "nbformat": 4,
 "nbformat_minor": 2
}
