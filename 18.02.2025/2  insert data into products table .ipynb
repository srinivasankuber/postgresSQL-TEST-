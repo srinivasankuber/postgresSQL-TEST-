{
 "cells": [
  {
   "cell_type": "code",
   "execution_count": null,
   "metadata": {
    "vscode": {
     "languageId": "sql"
    }
   },
   "outputs": [],
   "source": [
    "-- 2 insert data into products table \n",
    "\n",
    "INSERT INTO products (name, category, price, stock_quantity, rating)\n",
    "VALUES \n",
    "    ('Laptop', 'Electronics', 75000.00, 50, 4.5),\n",
    "    ('Smartphone', 'Electronics', 45000.00, 120, 4.7),\n",
    "    ('Table', 'Furniture', 5000.00, 30, 4.2),\n",
    "    ('Chair', 'Furniture', 3000.00, 40, 4.1),\n",
    "    ('Shoes', 'Fashion', 2000.00, 100, 4.0),\n",
    "    ('T-Shirt', 'Fashion', 500.00, 200, 3.9),\n",
    "    ('Watch', 'Accessories', 1500.00, 80, 4.3);\n"
   ]
  }
 ],
 "metadata": {
  "language_info": {
   "name": "python"
  }
 },
 "nbformat": 4,
 "nbformat_minor": 2
}
