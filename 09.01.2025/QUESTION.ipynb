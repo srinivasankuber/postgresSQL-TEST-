{
 "cells": [
  {
   "cell_type": "code",
   "execution_count": null,
   "metadata": {
    "vscode": {
     "languageId": "sql"
    }
   },
   "outputs": [],
   "source": [
    "--  QUESTION\n",
    "\n",
    "-- Write a query to retrieve the names of employees working in the 'IT' department\n",
    "-- who earn a salary greater than 80,000.\n",
    "\n",
    "SELECT name \n",
    "FROM employees \n",
    "WHERE department = 'IT' AND salary > 80000;\n"
   ]
  }
 ],
 "metadata": {
  "language_info": {
   "name": "python"
  }
 },
 "nbformat": 4,
 "nbformat_minor": 2
}
