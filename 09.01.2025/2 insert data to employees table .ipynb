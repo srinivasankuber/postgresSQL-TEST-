{
 "cells": [
  {
   "cell_type": "code",
   "execution_count": null,
   "metadata": {
    "vscode": {
     "languageId": "sql"
    }
   },
   "outputs": [],
   "source": [
    "-- 2 insert data into employees table \n",
    "\n",
    "INSERT INTO employees (name, department, salary, hire_date)  \n",
    "VALUES \n",
    "('Aravind', 'Finance', 75000, '2023-06-15'),\n",
    "('Nikitha', 'HR', 65000, '2022-04-12'),\n",
    "('Ram', 'IT', 82000, '2021-11-01'),\n",
    "('Mark', 'Finance', 72000, '2020-02-20'),\n",
    "('Srinivasan', 'IT', 90000, '2021-09-10');\n"
   ]
  }
 ],
 "metadata": {
  "language_info": {
   "name": "python"
  }
 },
 "nbformat": 4,
 "nbformat_minor": 2
}
