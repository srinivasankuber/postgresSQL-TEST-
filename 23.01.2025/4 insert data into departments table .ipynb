{
 "cells": [
  {
   "cell_type": "code",
   "execution_count": null,
   "metadata": {
    "vscode": {
     "languageId": "sql"
    }
   },
   "outputs": [],
   "source": [
    "--  4 insert data into departments table \n",
    "\n",
    "INSERT INTO departments (department_id) (department_name)\n",
    "VALUES \n",
    "    (1, 'Human Resources'),\n",
    "    (2, 'Finance'),\n",
    "    (3, 'IT'),\n",
    "    (4, 'Marketing');"
   ]
  }
 ],
 "metadata": {
  "language_info": {
   "name": "python"
  }
 },
 "nbformat": 4,
 "nbformat_minor": 2
}
