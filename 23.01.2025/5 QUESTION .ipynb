{
 "cells": [
  {
   "cell_type": "code",
   "execution_count": null,
   "metadata": {
    "vscode": {
     "languageId": "sql"
    }
   },
   "outputs": [],
   "source": [
    "--  QUESTION\n",
    "\n",
    "-- Write a query to fetch the total salary expense for each department along with the number of employees in that department.\n",
    "-- Sort the result by total salary expense in descending order.\n",
    "\n",
    "SELECT \n",
    "    d.department_name,\n",
    "    COUNT(e.employee_id) AS total_employees,\n",
    "    SUM(e.salary) AS total_salary_expense\n",
    "FROM \n",
    "    departments d\n",
    "LEFT JOIN \n",
    "    employees e ON d.department_id = e.department_id\n",
    "GROUP BY \n",
    "    d.department_name\n",
    "ORDER BY \n",
    "    total_salary_expense DESC;\n"
   ]
  }
 ],
 "metadata": {
  "language_info": {
   "name": "python"
  }
 },
 "nbformat": 4,
 "nbformat_minor": 2
}
