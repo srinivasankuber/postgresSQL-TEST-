{
 "cells": [
  {
   "cell_type": "code",
   "execution_count": null,
   "metadata": {
    "vscode": {
     "languageId": "sql"
    }
   },
   "outputs": [],
   "source": [
    "--  1 create table employees\n",
    "\n",
    "CREATE TABLE employees (\n",
    "    employee_id SERIAL PRIMARY KEY,\n",
    "    first_name VARCHAR(50) NOT NULL,\n",
    "    last_name VARCHAR(50) NOT NULL,\n",
    "    department_id INT NOT NULL,\n",
    "    hire_date DATE NOT NULL,\n",
    "    salary NUMERIC(10, 2) CHECK (salary > 0),\n",
    "    job_title VARCHAR(100),\n",
    "    CONSTRAINT fk_department FOREIGN KEY (department_id) REFERENCES departments(department_id) ON DELETE CASCADE\n",
    ");\n",
    "\n",
    "\n"
   ]
  }
 ],
 "metadata": {
  "language_info": {
   "name": "python"
  }
 },
 "nbformat": 4,
 "nbformat_minor": 2
}
