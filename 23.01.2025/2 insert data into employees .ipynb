{
 "cells": [
  {
   "cell_type": "code",
   "execution_count": null,
   "metadata": {
    "vscode": {
     "languageId": "sql"
    }
   },
   "outputs": [],
   "source": [
    "-- 2 insert data into employees \n",
    "\n",
    "INSERT INTO employees (first_name, last_name, department_id, hire_date, salary, job_title)\n",
    "VALUES\n",
    "    ('Aravind', 'Kumar', 1, '2023-01-15', 60000, 'HR Manager'),\n",
    "    ('Nikitha', 'Reddy', 2, '2022-05-20', 80000, 'Financial Analyst'),\n",
    "    ('Ram', 'Singh', 3, '2021-07-01', 70000, 'Software Engineer'),\n",
    "    ('Mark', 'Taylor', 4, '2020-10-30', 75000, 'Marketing Manager');"
   ]
  }
 ],
 "metadata": {
  "language_info": {
   "name": "python"
  }
 },
 "nbformat": 4,
 "nbformat_minor": 2
}
