{
 "cells": [
  {
   "cell_type": "code",
   "execution_count": null,
   "metadata": {
    "vscode": {
     "languageId": "sql"
    }
   },
   "outputs": [],
   "source": [
    "-- 3 create departments table\n",
    "\n",
    "CREATE TABLE departments (\n",
    "    department_id SERIAL PRIMARY KEY,\n",
    "    department_name VARCHAR(100) NOT NULL UNIQUE"
   ]
  }
 ],
 "metadata": {
  "language_info": {
   "name": "python"
  }
 },
 "nbformat": 4,
 "nbformat_minor": 2
}
