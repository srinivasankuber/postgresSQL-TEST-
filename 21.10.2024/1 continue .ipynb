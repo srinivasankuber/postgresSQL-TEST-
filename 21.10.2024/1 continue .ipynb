{
 "cells": [
  {
   "cell_type": "code",
   "execution_count": null,
   "metadata": {
    "vscode": {
     "languageId": "sql"
    }
   },
   "outputs": [],
   "source": [
    "-- 1  continue\n",
    "\n",
    "do\n",
    "$$\n",
    "declare\n",
    "   counter int = 0;\n",
    "begin\n",
    "  loop\n",
    "     counter = counter + 1;\n",
    "     exit when counter > 10;\n",
    "     continue when mod(counter,2) != 0;\n",
    "     raise notice '%', counter;\n",
    "  end loop;\n",
    "end;\n",
    "\n",
    "$$;"
   ]
  }
 ],
 "metadata": {
  "language_info": {
   "name": "python"
  }
 },
 "nbformat": 4,
 "nbformat_minor": 2
}
