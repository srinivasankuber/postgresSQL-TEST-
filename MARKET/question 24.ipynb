{
 "cells": [
  {
   "cell_type": "code",
   "execution_count": null,
   "metadata": {
    "vscode": {
     "languageId": "sql"
    }
   },
   "outputs": [],
   "source": [
    "-- 24 Display all customers who placed orders in June 2023.\n",
    "\n",
    "select distinct orders.\"customer_id\", \"order_date\"\n",
    "from customers join orders\n",
    "on customers.customer_id = orders.customer_id\n",
    "where \"order_date\" >= '2023-06-01' \n",
    "and    \"order_date\" <= '2023-06-30'\n"
   ]
  }
 ],
 "metadata": {
  "language_info": {
   "name": "python"
  }
 },
 "nbformat": 4,
 "nbformat_minor": 2
}
