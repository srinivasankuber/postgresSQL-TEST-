{
 "cells": [
  {
   "cell_type": "code",
   "execution_count": null,
   "metadata": {},
   "outputs": [],
   "source": [
    "-- 9 Retrieve orders where the total_amount exceeds 100.\n",
    "\n",
    "select *\n",
    "from orders\n",
    "where total_amount > 100"
   ]
  }
 ],
 "metadata": {
  "language_info": {
   "name": "python"
  }
 },
 "nbformat": 4,
 "nbformat_minor": 2
}
