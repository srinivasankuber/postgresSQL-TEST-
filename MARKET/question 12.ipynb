{
 "cells": [
  {
   "cell_type": "code",
   "execution_count": null,
   "metadata": {
    "vscode": {
     "languageId": "sql"
    }
   },
   "outputs": [],
   "source": [
    "-- 12 Find the average total_amount of orders for customers living in 'Los Angeles'\n",
    "\n",
    "SELECT AVG(total_amount) AS average_total_amount\n",
    "FROM Orders o\n",
    "JOIN Customers c ON o.customer_id = c.customer_id\n",
    "WHERE c.city = 'Los Angeles';\n"
   ]
  }
 ],
 "metadata": {
  "language_info": {
   "name": "python"
  }
 },
 "nbformat": 4,
 "nbformat_minor": 2
}
