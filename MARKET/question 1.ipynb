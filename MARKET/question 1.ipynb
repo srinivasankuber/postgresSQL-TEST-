{
 "cells": [
  {
   "cell_type": "code",
   "execution_count": null,
   "metadata": {
    "vscode": {
     "languageId": "sql"
    }
   },
   "outputs": [],
   "source": [
    "-- 1 retrieve all records from the cutomer table.\n",
    "\n",
    "select *\n",
    "from customers"
   ]
  }
 ],
 "metadata": {
  "language_info": {
   "name": "python"
  }
 },
 "nbformat": 4,
 "nbformat_minor": 2
}
