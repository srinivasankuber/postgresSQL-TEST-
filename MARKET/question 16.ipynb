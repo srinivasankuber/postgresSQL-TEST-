{
 "cells": [
  {
   "cell_type": "code",
   "execution_count": null,
   "metadata": {
    "vscode": {
     "languageId": "sql"
    }
   },
   "outputs": [],
   "source": [
    "-- 16 Show the total order amount per customer.\n",
    "\n",
    "select \"customer_id\" , sum(\"total_amount\") as total_order_amount\n",
    "from orders\n",
    "group by \"customer_id\"\n",
    "order by \"customer_id\""
   ]
  }
 ],
 "metadata": {
  "language_info": {
   "name": "python"
  }
 },
 "nbformat": 4,
 "nbformat_minor": 2
}
