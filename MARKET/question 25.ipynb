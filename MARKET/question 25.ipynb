{
 "cells": [
  {
   "cell_type": "code",
   "execution_count": null,
   "metadata": {
    "vscode": {
     "languageId": "sql"
    }
   },
   "outputs": [],
   "source": [
    "-- 25  Retrieve the order count and total amount for each status.\n",
    "\n",
    "select\n",
    "       count(order_id) AS order_count,\n",
    "       sum(total_amount) AS total_amount,\n",
    "\t   status\n",
    "from orders\n",
    "group by status;\n"
   ]
  }
 ],
 "metadata": {
  "language_info": {
   "name": "python"
  }
 },
 "nbformat": 4,
 "nbformat_minor": 2
}
