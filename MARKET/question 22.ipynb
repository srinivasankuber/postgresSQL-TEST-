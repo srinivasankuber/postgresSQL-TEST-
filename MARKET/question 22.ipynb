{
 "cells": [
  {
   "cell_type": "code",
   "execution_count": null,
   "metadata": {
    "vscode": {
     "languageId": "sql"
    }
   },
   "outputs": [],
   "source": [
    "-- 22 Show customers who have both completed and pending orders.\n",
    "\n",
    "select \"customer_id\", \"status\"\n",
    "from orders\n",
    "where status in ('Completed', 'Pending')"
   ]
  }
 ],
 "metadata": {
  "language_info": {
   "name": "python"
  }
 },
 "nbformat": 4,
 "nbformat_minor": 2
}
