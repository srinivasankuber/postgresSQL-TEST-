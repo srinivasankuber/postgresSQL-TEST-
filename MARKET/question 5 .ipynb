{
 "cells": [
  {
   "cell_type": "code",
   "execution_count": null,
   "metadata": {
    "vscode": {
     "languageId": "sql"
    }
   },
   "outputs": [],
   "source": [
    "--  6  Find the total number of customers in the Customers table.\n",
    "\n",
    "select count(\"customer_id\")\n",
    "from customers"
   ]
  }
 ],
 "metadata": {
  "language_info": {
   "name": "python"
  }
 },
 "nbformat": 4,
 "nbformat_minor": 2
}
