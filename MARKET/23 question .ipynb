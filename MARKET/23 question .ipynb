{
 "cells": [
  {
   "cell_type": "code",
   "execution_count": null,
   "metadata": {
    "vscode": {
     "languageId": "sql"
    }
   },
   "outputs": [],
   "source": [
    "-- 23 List customers with no 'Completed' orders.\n",
    "\n",
    "select \"customer_id\", \"status\"\n",
    "from orders\n",
    "where status not in ('Completed')"
   ]
  }
 ],
 "metadata": {
  "language_info": {
   "name": "python"
  }
 },
 "nbformat": 4,
 "nbformat_minor": 2
}
