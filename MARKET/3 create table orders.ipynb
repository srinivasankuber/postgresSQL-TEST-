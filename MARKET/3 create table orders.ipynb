{
 "cells": [
  {
   "cell_type": "code",
   "execution_count": null,
   "metadata": {
    "vscode": {
     "languageId": "sql"
    }
   },
   "outputs": [],
   "source": [
    "\n",
    "CREATE TABLE Orders (\n",
    "    order_id SERIAL PRIMARY KEY,\n",
    "    customer_id INT REFERENCES Customers(customer_id),\n",
    "    order_date DATE DEFAULT CURRENT_DATE,\n",
    "    status VARCHAR(20) CHECK (status IN ('Completed', 'Pending', 'Shipped')),\n",
    "    total_amount DECIMAL(10, 2) NOT NULL CHECK (total_amount >= 0)\n",
    ");"
   ]
  }
 ],
 "metadata": {
  "language_info": {
   "name": "python"
  }
 },
 "nbformat": 4,
 "nbformat_minor": 2
}
