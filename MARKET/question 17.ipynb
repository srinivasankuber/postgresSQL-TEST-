{
 "cells": [
  {
   "cell_type": "code",
   "execution_count": null,
   "metadata": {
    "vscode": {
     "languageId": "sql"
    }
   },
   "outputs": [],
   "source": [
    "-- 17   List all customers who have never placed an order.\n",
    "SELECT \n",
    "   customers. \"customer_id\",\n",
    "     \"first_name\",\n",
    "\t \"last_name\"\n",
    "FROM \n",
    "    orders \n",
    "LEFT JOIN \n",
    "    customers  ON orders.customer_id = customers.customer_id\n",
    "WHERE \n",
    "    order_id IS NULL;\n",
    " \n",
    "--  no output will come because every customer have an order"
   ]
  }
 ],
 "metadata": {
  "language_info": {
   "name": "python"
  }
 },
 "nbformat": 4,
 "nbformat_minor": 2
}
