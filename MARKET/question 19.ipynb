{
 "cells": [
  {
   "cell_type": "code",
   "execution_count": null,
   "metadata": {
    "vscode": {
     "languageId": "sql"
    }
   },
   "outputs": [],
   "source": [
    "-- 19 Find the customer with the highest total order amount.\n",
    "\n",
    "select \"customer_id\",\"total_amount\"as higest_total_amount\n",
    "from orders\n",
    "where \"total_amount\" in  (select max(\"total_amount\")\n",
    "from orders)"
   ]
  }
 ],
 "metadata": {
  "language_info": {
   "name": "python"
  }
 },
 "nbformat": 4,
 "nbformat_minor": 2
}
