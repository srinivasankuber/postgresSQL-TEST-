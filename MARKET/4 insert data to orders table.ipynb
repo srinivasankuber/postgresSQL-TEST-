{
 "cells": [
  {
   "cell_type": "code",
   "execution_count": null,
   "metadata": {
    "vscode": {
     "languageId": "sql"
    }
   },
   "outputs": [],
   "source": [
    "-- 4 insert data to orders table\n",
    "\n",
    "INSERT INTO Orders (customer_id, order_date, status, total_amount)\n",
    "VALUES \n",
    "(1, '2023-06-01', 'Completed', 150.00),\n",
    "(1, '2023-06-15', 'Shipped', 200.50),\n",
    "(2, '2023-07-01', 'Pending', 75.75),\n",
    "(3, '2023-08-05', 'Completed', 300.00);"
   ]
  }
 ],
 "metadata": {
  "language_info": {
   "name": "python"
  }
 },
 "nbformat": 4,
 "nbformat_minor": 2
}
