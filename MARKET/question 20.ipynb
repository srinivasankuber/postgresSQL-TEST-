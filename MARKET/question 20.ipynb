{
 "cells": [
  {
   "cell_type": "code",
   "execution_count": null,
   "metadata": {
    "vscode": {
     "languageId": "sql"
    }
   },
   "outputs": [],
   "source": [
    "-- 20 Display customers along with their latest order date.\n",
    "\n",
    "select \"customer_id\", max(order_date)\n",
    "from orders\n",
    "group by \"customer_id\" \n",
    "order by \"customer_id\" "
   ]
  }
 ],
 "metadata": {
  "language_info": {
   "name": "python"
  }
 },
 "nbformat": 4,
 "nbformat_minor": 2
}
