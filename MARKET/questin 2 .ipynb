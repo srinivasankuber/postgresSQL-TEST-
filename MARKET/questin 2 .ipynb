{
 "cells": [
  {
   "cell_type": "code",
   "execution_count": null,
   "metadata": {
    "vscode": {
     "languageId": "sql"
    }
   },
   "outputs": [],
   "source": [
    "--  2 List all customers who live in 'New York'\n",
    "\n",
    "select * \n",
    "from customers \n",
    "where city = 'New York'"
   ]
  }
 ],
 "metadata": {
  "language_info": {
   "name": "python"
  }
 },
 "nbformat": 4,
 "nbformat_minor": 2
}
