{
 "cells": [
  {
   "cell_type": "code",
   "execution_count": null,
   "metadata": {
    "vscode": {
     "languageId": "sql"
    }
   },
   "outputs": [],
   "source": [
    "-- 15 Retrieve all orders along with the customer's first_name and last_name.\n",
    "\n",
    "select \"first_name\", \"last_name\", count(*) as no_of_orders\n",
    "from customers right join orders\n",
    "on customers.customer_id = orders.customer_id\n",
    "group by \"first_name\", \"last_name\"\n"
   ]
  }
 ],
 "metadata": {
  "language_info": {
   "name": "python"
  }
 },
 "nbformat": 4,
 "nbformat_minor": 2
}
