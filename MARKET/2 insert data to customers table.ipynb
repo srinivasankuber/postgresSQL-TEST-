{
 "cells": [
  {
   "cell_type": "code",
   "execution_count": null,
   "metadata": {
    "vscode": {
     "languageId": "sql"
    }
   },
   "outputs": [],
   "source": [
    "INSERT INTO Customers (first_name, last_name, email, phone, address, city, join_date)\n",
    "VALUES \n",
    "('John', 'Doe', 'john.doe@example.com', '9876543210', '123 Elm St', 'New York', '2023-05-20'),\n",
    "('Jane', 'Smith', 'jane.smith@example.com', '9876543211', '456 Maple Ave', 'Los Angeles', '2022-08-12'),\n",
    "('Tom', 'Brown', 'tom.brown@example.com', '9876543212', '789 Oak Dr', 'Chicago', '2023-03-15');"
   ]
  }
 ],
 "metadata": {
  "language_info": {
   "name": "python"
  }
 },
 "nbformat": 4,
 "nbformat_minor": 2
}
