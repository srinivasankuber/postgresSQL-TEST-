{
 "cells": [
  {
   "cell_type": "code",
   "execution_count": null,
   "metadata": {
    "vscode": {
     "languageId": "sql"
    }
   },
   "outputs": [],
   "source": [
    "-- 14 Display all customers who have placed more than one order.\n",
    "\n",
    "SELECT Customers.\"customer_id\"\n",
    "FROM Customers\n",
    "JOIN Orders ON Customers.\"customer_id\" = Orders.\"customer_id\"\n",
    "GROUP BY Customers.\"customer_id\"\n",
    "HAVING COUNT(Orders.\"order_id\") > 1;\n",
    "\n"
   ]
  }
 ],
 "metadata": {
  "language_info": {
   "name": "python"
  }
 },
 "nbformat": 4,
 "nbformat_minor": 2
}
