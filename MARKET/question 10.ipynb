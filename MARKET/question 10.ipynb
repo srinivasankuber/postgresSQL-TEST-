{
 "cells": [
  {
   "cell_type": "code",
   "execution_count": null,
   "metadata": {
    "vscode": {
     "languageId": "sql"
    }
   },
   "outputs": [],
   "source": [
    "-- 10 Display all unique cities from the Customers table.\n",
    "\n",
    "select distinct(\"city\")\n",
    "from customers"
   ]
  }
 ],
 "metadata": {
  "language_info": {
   "name": "python"
  }
 },
 "nbformat": 4,
 "nbformat_minor": 2
}
