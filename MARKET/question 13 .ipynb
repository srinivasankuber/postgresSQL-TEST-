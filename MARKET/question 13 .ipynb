{
 "cells": [
  {
   "cell_type": "code",
   "execution_count": null,
   "metadata": {
    "vscode": {
     "languageId": "sql"
    }
   },
   "outputs": [],
   "source": [
    "-- 13  Show the first_name, last_name, and total orders for each customer.\n",
    "\n",
    "SELECT c.first_name, c.last_name, COUNT(o.order_id) AS total_orders\n",
    "FROM Customers c\n",
    "LEFT JOIN Orders o ON c.customer_id = o.customer_id\n",
    "GROUP BY c.customer_id, c.first_name, c.last_name;\n"
   ]
  }
 ],
 "metadata": {
  "language_info": {
   "name": "python"
  }
 },
 "nbformat": 4,
 "nbformat_minor": 2
}
