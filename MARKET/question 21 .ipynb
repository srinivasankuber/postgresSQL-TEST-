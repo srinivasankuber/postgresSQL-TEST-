{
 "cells": [
  {
   "cell_type": "code",
   "execution_count": null,
   "metadata": {},
   "outputs": [],
   "source": [
    "-- 21  Retrieve the city with the highest average order amount.\n",
    "\n",
    "select \"city\", avg(\"total_amount\") as avg_order_amount\n",
    "from \"customers\" right join \"orders\"\n",
    "on customers.customer_id = customers.customer_id\n",
    "group by \"city\"\n",
    "order by avg_order_amount limit 1"
   ]
  }
 ],
 "metadata": {
  "language_info": {
   "name": "python"
  }
 },
 "nbformat": 4,
 "nbformat_minor": 2
}
