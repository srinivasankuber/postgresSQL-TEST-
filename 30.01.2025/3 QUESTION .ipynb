{
 "cells": [
  {
   "cell_type": "code",
   "execution_count": null,
   "metadata": {
    "vscode": {
     "languageId": "sql"
    }
   },
   "outputs": [],
   "source": [
    "--  3 QUESTION\n",
    "\n",
    "-- Find the Highest Spending Customer with the Most Orders\n",
    "\n",
    "WITH customer_totals AS (\n",
    "    SELECT customer_name, COUNT(order_id) AS total_orders, SUM(total_amount) AS total_spent\n",
    "    FROM sales_orders\n",
    "    WHERE status <> 'Cancelled'\n",
    "    GROUP BY customer_name\n",
    ")\n",
    "SELECT customer_name, total_orders, total_spent\n",
    "FROM customer_totals\n",
    "ORDER BY total_spent DESC\n",
    "LIMIT 1;\n",
    "\n",
    "\n"
   ]
  }
 ],
 "metadata": {
  "language_info": {
   "name": "python"
  }
 },
 "nbformat": 4,
 "nbformat_minor": 2
}
