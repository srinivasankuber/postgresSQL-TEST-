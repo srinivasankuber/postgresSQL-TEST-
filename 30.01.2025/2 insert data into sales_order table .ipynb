{
 "cells": [
  {
   "cell_type": "code",
   "execution_count": null,
   "metadata": {
    "vscode": {
     "languageId": "sql"
    }
   },
   "outputs": [],
   "source": [
    "-- 2 insert data into sales_orders table \n",
    "\n",
    "INSERT INTO sales_orders (customer_name, order_date, total_amount, status) VALUES\n",
    "('Arun Kumar', '2025-01-20', 4500.50, 'Pending'),\n",
    "('Divya Sharma', '2025-01-21', 3200.75, 'Shipped'),\n",
    "('Rahul Gupta', '2025-01-22', 8900.00, 'Delivered'),\n",
    "('Meena Reddy', '2025-01-23', 1500.25, 'Cancelled'),\n",
    "('Suresh Menon', '2025-01-24', 6700.60, 'Pending');\n"
   ]
  }
 ],
 "metadata": {
  "language_info": {
   "name": "python"
  }
 },
 "nbformat": 4,
 "nbformat_minor": 2
}
