{
 "cells": [
  {
   "cell_type": "code",
   "execution_count": null,
   "metadata": {
    "vscode": {
     "languageId": "sql"
    }
   },
   "outputs": [],
   "source": [
    "-- 1  create table for sales_orders\n",
    "\n",
    "CREATE TABLE sales_orders (\n",
    "    order_id SERIAL PRIMARY KEY,\n",
    "    customer_name VARCHAR(100) NOT NULL,\n",
    "    order_date DATE NOT NULL DEFAULT CURRENT_DATE,\n",
    "    total_amount NUMERIC(10,2) CHECK (total_amount >= 0),\n",
    "    status VARCHAR(20) CHECK (status IN ('Pending', 'Shipped', 'Delivered', 'Cancelled'))\n",
    ");\n"
   ]
  }
 ],
 "metadata": {
  "language_info": {
   "name": "python"
  }
 },
 "nbformat": 4,
 "nbformat_minor": 2
}
