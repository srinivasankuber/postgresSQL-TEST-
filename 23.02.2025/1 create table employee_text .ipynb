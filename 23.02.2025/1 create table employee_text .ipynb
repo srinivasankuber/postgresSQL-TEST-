{
 "cells": [
  {
   "cell_type": "code",
   "execution_count": null,
   "metadata": {
    "vscode": {
     "languageId": "sql"
    }
   },
   "outputs": [],
   "source": [
    "-- 1 create table employees_text\n",
    "\n",
    "CREATE TABLE employees_text (\n",
    "    id SERIAL PRIMARY KEY,\n",
    "    full_name VARCHAR(100),\n",
    "    email VARCHAR(100),\n",
    "    address TEXT,\n",
    "    phone VARCHAR(15),\n",
    "    job_title VARCHAR(50)\n",
    ");\n"
   ]
  }
 ],
 "metadata": {
  "language_info": {
   "name": "python"
  }
 },
 "nbformat": 4,
 "nbformat_minor": 2
}
