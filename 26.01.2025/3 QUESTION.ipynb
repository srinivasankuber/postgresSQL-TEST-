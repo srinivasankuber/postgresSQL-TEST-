{
 "cells": [
  {
   "cell_type": "code",
   "execution_count": null,
   "metadata": {
    "vscode": {
     "languageId": "sql"
    }
   },
   "outputs": [],
   "source": [
    "--  3 QUESTION\n",
    "\n",
    "-- Calculate the average salary by department, excluding employees hired in the last 6 months\n",
    "\n",
    "SELECT \n",
    "    department_id,\n",
    "    AVG(salary) AS average_salary\n",
    "FROM employees\n",
    "WHERE hire_date < CURRENT_DATE - INTERVAL '6 months'\n",
    "GROUP BY department_id\n",
    "ORDER BY average_salary DESC;\n",
    "\n",
    "\n",
    "\n"
   ]
  }
 ],
 "metadata": {
  "language_info": {
   "name": "python"
  }
 },
 "nbformat": 4,
 "nbformat_minor": 2
}
