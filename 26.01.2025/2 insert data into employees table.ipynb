{
 "cells": [
  {
   "cell_type": "code",
   "execution_count": null,
   "metadata": {
    "vscode": {
     "languageId": "sql"
    }
   },
   "outputs": [],
   "source": [
    "-- 2 insert data into employees table \n",
    "\n",
    "INSERT INTO employees (name, department_id, salary, job_role)\n",
    "VALUES\n",
    "    ('Alice', 101, 75000.00, 'Manager'),\n",
    "    ('Bob', 102, 55000.00, 'Engineer'),\n",
    "    ('Charlie', 101, 65000.00, 'Analyst'),\n",
    "    ('Diana', 103, 47000.00, 'Clerk'),\n",
    "    ('Eve', 102, 72000.00, 'Manager');\n"
   ]
  }
 ],
 "metadata": {
  "language_info": {
   "name": "python"
  }
 },
 "nbformat": 4,
 "nbformat_minor": 2
}
