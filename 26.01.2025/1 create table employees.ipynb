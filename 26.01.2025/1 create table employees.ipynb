{
 "cells": [
  {
   "cell_type": "code",
   "execution_count": null,
   "metadata": {
    "vscode": {
     "languageId": "sql"
    }
   },
   "outputs": [],
   "source": [
    "--  1 create table employees \n",
    "\n",
    "CREATE TABLE employees (\n",
    "    employee_id SERIAL PRIMARY KEY,\n",
    "    name VARCHAR(100) NOT NULL,\n",
    "    department_id INT NOT NULL,\n",
    "    salary NUMERIC(10, 2) NOT NULL,\n",
    "    hire_date DATE DEFAULT CURRENT_DATE,\n",
    "    job_role VARCHAR(50) CHECK (job_role IN ('Manager', 'Engineer', 'Analyst', 'Clerk'))\n",
    ");\n"
   ]
  }
 ],
 "metadata": {
  "language_info": {
   "name": "python"
  }
 },
 "nbformat": 4,
 "nbformat_minor": 2
}
