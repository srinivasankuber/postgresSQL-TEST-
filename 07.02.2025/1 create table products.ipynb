{
 "cells": [
  {
   "cell_type": "code",
   "execution_count": null,
   "metadata": {
    "vscode": {
     "languageId": "sql"
    }
   },
   "outputs": [],
   "source": [
    "-- 1 create table products\n",
    "\n",
    "CREATE TABLE products (\n",
    "    product_id SERIAL PRIMARY KEY,\n",
    "    name VARCHAR(100) NOT NULL,\n",
    "    category VARCHAR(50),\n",
    "    price DECIMAL(10,2) CHECK (price > 0),\n",
    "    stock_quantity INT CHECK (stock_quantity >= 0),\n",
    "    added_date TIMESTAMP DEFAULT CURRENT_TIMESTAMP\n",
    ");\n"
   ]
  }
 ],
 "metadata": {
  "language_info": {
   "name": "python"
  }
 },
 "nbformat": 4,
 "nbformat_minor": 2
}
