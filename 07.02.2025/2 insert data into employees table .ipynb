{
 "cells": [
  {
   "cell_type": "code",
   "execution_count": null,
   "metadata": {
    "vscode": {
     "languageId": "sql"
    }
   },
   "outputs": [],
   "source": [
    "--  2 insert data into products table \n",
    "\n",
    "INSERT INTO products (name, category, price, stock_quantity) VALUES\n",
    "('Laptop', 'Electronics', 55000.00, 10),\n",
    "('Smartphone', 'Electronics', 25000.00, 15),\n",
    "('Table', 'Furniture', 8000.00, 20),\n",
    "('Chair', 'Furniture', 4000.00, 30),\n",
    "('Headphones', 'Accessories', 3000.00, 25);\n"
   ]
  }
 ],
 "metadata": {
  "language_info": {
   "name": "python"
  }
 },
 "nbformat": 4,
 "nbformat_minor": 2
}
