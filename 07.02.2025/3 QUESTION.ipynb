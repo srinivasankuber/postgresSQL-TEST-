{
 "cells": [
  {
   "cell_type": "code",
   "execution_count": null,
   "metadata": {
    "vscode": {
     "languageId": "sql"
    }
   },
   "outputs": [],
   "source": [
    "--  3 QUESTION\n",
    "\n",
    "-- Get the total stock available for each category\n",
    "\n",
    "SELECT category, SUM(stock_quantity) AS total_stock \n",
    "FROM products \n",
    "GROUP BY category;\n"
   ]
  }
 ],
 "metadata": {
  "language_info": {
   "name": "python"
  }
 },
 "nbformat": 4,
 "nbformat_minor": 2
}
