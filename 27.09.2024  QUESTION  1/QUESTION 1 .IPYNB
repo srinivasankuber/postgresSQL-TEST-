{
 "cells": [
  {
   "cell_type": "code",
   "execution_count": null,
   "metadata": {},
   "outputs": [],
   "source": [
    "WITH percentage AS (\n",
    "    SELECT\n",
    "        dt,\n",
    "        sales,\n",
    "        LAG(sales) OVER (ORDER BY dt) AS previous_sales\n",
    "    FROM\n",
    "        sales\n",
    ")\n",
    "\n",
    "SELECT\n",
    "    dt,\n",
    "    sales,\n",
    "    CASE \n",
    "        WHEN previous_sales IS NULL THEN 0\n",
    "        ELSE ROUND(((sales - previous_sales) / previous_sales) * 100) \n",
    "    END AS \"%var\"\n",
    "FROM\n",
    "    percentage\n",
    "WHERE\n",
    "    dt NOT IN ('2023-10-06', '2023-10-07');  \n"
   ]
  }
 ],
 "metadata": {
  "language_info": {
   "name": "python"
  }
 },
 "nbformat": 4,
 "nbformat_minor": 2
}
