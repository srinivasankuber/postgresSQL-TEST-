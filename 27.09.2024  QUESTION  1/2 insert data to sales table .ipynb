{
 "cells": [
  {
   "cell_type": "code",
   "execution_count": null,
   "metadata": {},
   "outputs": [],
   "source": [
    "--2  insert data to sales table \n",
    "\n",
    "insert into sales \n",
    "values\n",
    "('2023-10-03', 10),\n",
    "('2023-10-04', 20),\n",
    "('2023-10-05', 60),\n",
    "('2023-10-06', 50),\n",
    "('2023-10-07', 10)\n"
   ]
  }
 ],
 "metadata": {
  "language_info": {
   "name": "python"
  }
 },
 "nbformat": 4,
 "nbformat_minor": 2
}
