{
 "cells": [
  {
   "cell_type": "code",
   "execution_count": null,
   "metadata": {
    "vscode": {
     "languageId": "sql"
    }
   },
   "outputs": [],
   "source": [
    "-- 1 loop for \n",
    "\n",
    "do\n",
    "$$\n",
    "begin \n",
    "   for counter in 1.5 loop\n",
    "   raise notice 'counter: %', counter;\n",
    "   end loop;\n",
    "end;\n",
    "$$\n"
   ]
  }
 ],
 "metadata": {
  "language_info": {
   "name": "python"
  }
 },
 "nbformat": 4,
 "nbformat_minor": 2
}
