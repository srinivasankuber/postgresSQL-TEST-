{
 "cells": [
  {
   "cell_type": "code",
   "execution_count": null,
   "metadata": {
    "vscode": {
     "languageId": "sql"
    }
   },
   "outputs": [],
   "source": [
    "-- 2 loop while\n",
    "\n",
    "do $$\n",
    "\n",
    "declare\n",
    "    counter integer := 0;\n",
    "begin\n",
    "   while counter < 5 loop\n",
    "       raise notice 'counter %', counter;\n",
    "       counter := counter +1;\n",
    "   end loop;\n",
    "end;\n",
    "$$"
   ]
  }
 ],
 "metadata": {
  "language_info": {
   "name": "python"
  }
 },
 "nbformat": 4,
 "nbformat_minor": 2
}
