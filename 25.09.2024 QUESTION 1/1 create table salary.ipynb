{
 "cells": [
  {
   "cell_type": "code",
   "execution_count": null,
   "metadata": {
    "vscode": {
     "languageId": "sql"
    }
   },
   "outputs": [],
   "source": [
    "-- 1 create table salary\n",
    "create table salary\n",
    "(\n",
    "\"emp_id\" integer,\n",
    "name varchar (15),\n",
    "salary integer,\n",
    "\"dept_id\" integer\n",
    ")\n"
   ]
  }
 ],
 "metadata": {
  "language_info": {
   "name": "python"
  }
 },
 "nbformat": 4,
 "nbformat_minor": 2
}
