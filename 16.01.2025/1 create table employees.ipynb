{
 "cells": [
  {
   "cell_type": "code",
   "execution_count": null,
   "metadata": {
    "vscode": {
     "languageId": "sql"
    }
   },
   "outputs": [],
   "source": [
    "--  1 create table employees \n",
    "\n",
    "CREATE TABLE employees (\n",
    "    employee_id SERIAL PRIMARY KEY,\n",
    "    name VARCHAR(100) NOT NULL,\n",
    "    department VARCHAR(50) NOT NULL,\n",
    "    salary NUMERIC(10, 2) NOT NULL,\n",
    "    join_date DATE NOT NULL,\n",
    "    is_active BOOLEAN DEFAULT TRUE\n",
    ");\n"
   ]
  }
 ],
 "metadata": {
  "language_info": {
   "name": "python"
  }
 },
 "nbformat": 4,
 "nbformat_minor": 2
}
