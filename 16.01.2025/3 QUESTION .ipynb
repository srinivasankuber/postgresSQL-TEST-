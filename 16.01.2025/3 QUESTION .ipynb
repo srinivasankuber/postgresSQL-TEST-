{
 "cells": [
  {
   "cell_type": "code",
   "execution_count": null,
   "metadata": {
    "vscode": {
     "languageId": "sql"
    }
   },
   "outputs": [],
   "source": [
    "--  3 QUESTION\n",
    "\n",
    "-- Calculate the total and average salary for active employees.\n",
    "\n",
    "SELECT \n",
    "    COUNT(*) AS total_employees,\n",
    "    SUM(salary) AS total_salary,\n",
    "    AVG(salary) AS avg_salary\n",
    "FROM \n",
    "    employees\n",
    "WHERE \n",
    "    is_active = TRUE;\n"
   ]
  }
 ],
 "metadata": {
  "language_info": {
   "name": "python"
  }
 },
 "nbformat": 4,
 "nbformat_minor": 2
}
