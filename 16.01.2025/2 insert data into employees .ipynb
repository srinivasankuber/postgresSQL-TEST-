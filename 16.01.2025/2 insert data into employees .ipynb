{
 "cells": [
  {
   "cell_type": "code",
   "execution_count": null,
   "metadata": {
    "vscode": {
     "languageId": "sql"
    }
   },
   "outputs": [],
   "source": [
    "--  2 insert data into employees table \n",
    "\n",
    "INSERT INTO employees (name, department, salary, join_date, is_active)\n",
    "VALUES \n",
    "    ('Aravind', 'Finance', 85000.00, '2022-01-15', TRUE),\n",
    "    ('Nikitha', 'HR', 75000.00, '2021-11-20', TRUE),\n",
    "    ('Ram', 'IT', 95000.00, '2020-06-05', TRUE),\n",
    "    ('Mark', 'Supply Chain', 72000.00, '2019-03-10', FALSE),\n",
    "    ('Samantha', 'Finance', 88000.00, '2023-04-25', TRUE);\n"
   ]
  }
 ],
 "metadata": {
  "language_info": {
   "name": "python"
  }
 },
 "nbformat": 4,
 "nbformat_minor": 2
}
