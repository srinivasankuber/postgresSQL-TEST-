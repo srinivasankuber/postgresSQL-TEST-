{
 "cells": [
  {
   "cell_type": "code",
   "execution_count": null,
   "metadata": {
    "vscode": {
     "languageId": "sql"
    }
   },
   "outputs": [],
   "source": [
    "-- 2 in function \n",
    "\n",
    "create or replace function find_stuid(ssid integer)\n",
    "returns varchar\n",
    "language plpgsql\n",
    "as $$\n",
    "declare\n",
    "   sname students.name%type;\n",
    "   sage students.age%type;\n",
    "begin\n",
    "  select name, age into sname, sage from students where sid = ssid;\n",
    "  if not found then\n",
    "     raise 'student id % not found', sid;\n",
    "  end if;\n",
    "  \n",
    "  return sname;\n",
    "end;\n",
    "$$;\n",
    "--call the function\n",
    "select * from find_stuid(1)"
   ]
  }
 ],
 "metadata": {
  "language_info": {
   "name": "python"
  }
 },
 "nbformat": 4,
 "nbformat_minor": 2
}
