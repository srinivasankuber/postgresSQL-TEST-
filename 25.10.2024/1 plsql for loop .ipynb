{
 "cells": [
  {
   "cell_type": "code",
   "execution_count": null,
   "metadata": {
    "vscode": {
     "languageId": "sql"
    }
   },
   "outputs": [],
   "source": [
    "-- 1 plsql for loop\n",
    "\n",
    "do\n",
    "$$\n",
    "declare\n",
    "    f record;\n",
    "begin\n",
    "    for f in select \"Car\",\"Origin\"\n",
    "          from cars limit 10\n",
    "    loop\n",
    "    raise notice '%(%)', f.car,f.origin;\n",
    "    end loop;\n",
    "end;\n",
    "$$  "
   ]
  }
 ],
 "metadata": {
  "language_info": {
   "name": "python"
  }
 },
 "nbformat": 4,
 "nbformat_minor": 2
}
