{
 "cells": [
  {
   "cell_type": "code",
   "execution_count": null,
   "metadata": {
    "vscode": {
     "languageId": "sql"
    }
   },
   "outputs": [],
   "source": [
    "-- 3 QUESTIONS \n",
    "\n",
    "-- Convert name column into title case (capitalize first letter of each word)\n",
    "\n",
    "SELECT name, INITCAP(name) AS title_case_name \n",
    "FROM employees;\n",
    "\n"
   ]
  }
 ],
 "metadata": {
  "language_info": {
   "name": "python"
  }
 },
 "nbformat": 4,
 "nbformat_minor": 2
}
