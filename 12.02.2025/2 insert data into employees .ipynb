{
 "cells": [
  {
   "cell_type": "code",
   "execution_count": null,
   "metadata": {
    "vscode": {
     "languageId": "sql"
    }
   },
   "outputs": [],
   "source": [
    "-- 2 insert data into employees table \n",
    "\n",
    "INSERT INTO employees (name, department, email, position) \n",
    "VALUES\n",
    "('Aravind Kumar', 'Finance', 'aravind.kumar@example.com', 'Financial Analyst'),\n",
    "('Nikitha Sharma', 'Human Resources', 'nikitha.sharma@example.com', 'HR Manager'),\n",
    "('Ram Prasad', 'IT', 'ram.prasad@example.com', 'Software Engineer'),\n",
    "('Mark Dsouza', 'Marketing', 'mark.dsouza@example.com', 'Marketing Specialist'),\n",
    "('Sonia Reddy', 'Finance', 'sonia.reddy@example.com', 'Accountant');"
   ]
  }
 ],
 "metadata": {
  "language_info": {
   "name": "python"
  }
 },
 "nbformat": 4,
 "nbformat_minor": 2
}
