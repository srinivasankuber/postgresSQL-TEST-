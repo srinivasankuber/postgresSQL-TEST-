{
 "cells": [
  {
   "cell_type": "code",
   "execution_count": null,
   "metadata": {
    "vscode": {
     "languageId": "sql"
    }
   },
   "outputs": [],
   "source": [
    "do $$\n",
    "declare\n",
    "\n",
    "\tfirst_name varchar(50) = 'Variablz';\n",
    "\tlast_name  varchar(50) = 'Academy';\n",
    "\n",
    "begin\n",
    "\traise notice 'First Name:% ,Last Name:%',\n",
    "\n",
    "\t\tfirst_name,\n",
    "\t\tlast_name;\n",
    "\n",
    "end $$;"
   ]
  }
 ],
 "metadata": {
  "language_info": {
   "name": "python"
  }
 },
 "nbformat": 4,
 "nbformat_minor": 2
}
