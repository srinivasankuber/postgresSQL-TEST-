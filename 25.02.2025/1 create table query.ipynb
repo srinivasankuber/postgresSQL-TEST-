{
 "cells": [
  {
   "cell_type": "code",
   "execution_count": null,
   "metadata": {
    "vscode": {
     "languageId": "sql"
    }
   },
   "outputs": [],
   "source": [
    "-- 1 create table query \n",
    "\n",
    "CREATE TABLE products (\n",
    "    id SERIAL PRIMARY KEY,\n",
    "    name VARCHAR(50) NOT NULL,\n",
    "    category VARCHAR(30) NOT NULL,\n",
    "    price NUMERIC(10,2) NOT NULL,\n",
    "    stock_quantity INT NOT NULL\n",
    ");\n"
   ]
  }
 ],
 "metadata": {
  "language_info": {
   "name": "python"
  }
 },
 "nbformat": 4,
 "nbformat_minor": 2
}
