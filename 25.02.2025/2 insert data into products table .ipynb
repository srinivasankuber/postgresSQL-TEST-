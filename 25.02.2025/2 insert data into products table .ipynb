{
 "cells": [
  {
   "cell_type": "code",
   "execution_count": null,
   "metadata": {
    "vscode": {
     "languageId": "sql"
    }
   },
   "outputs": [],
   "source": [
    "-- 2 insert data into products table \n",
    "\n",
    "INSERT INTO products (name, category, price, stock_quantity) VALUES\n",
    "    ('Laptop', 'Electronics', 55000.00, 10),\n",
    "    ('Smartphone', 'Electronics', 30000.00, 25),\n",
    "    ('Table', 'Furniture', 5000.00, 15),\n",
    "    ('Chair', 'Furniture', 2000.00, 30),\n",
    "    ('Headphones', 'Electronics', 1500.00, 50);\n"
   ]
  }
 ],
 "metadata": {
  "language_info": {
   "name": "python"
  }
 },
 "nbformat": 4,
 "nbformat_minor": 2
}
