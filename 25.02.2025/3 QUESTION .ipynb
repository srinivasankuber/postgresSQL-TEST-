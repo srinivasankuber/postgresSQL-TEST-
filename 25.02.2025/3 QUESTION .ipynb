{
 "cells": [
  {
   "cell_type": "code",
   "execution_count": null,
   "metadata": {
    "vscode": {
     "languageId": "sql"
    }
   },
   "outputs": [],
   "source": [
    "-- 3 QUESTION\n",
    "\n",
    "-- Find the total number of products in each category and the average price of products in that category.\n",
    "\n",
    "SELECT \n",
    "    category,\n",
    "    COUNT(*) AS total_products,\n",
    "    AVG(price) AS avg_price\n",
    "FROM products\n",
    "GROUP BY category\n",
    "ORDER BY category;\n",
    "\n",
    "\n"
   ]
  }
 ],
 "metadata": {
  "language_info": {
   "name": "python"
  }
 },
 "nbformat": 4,
 "nbformat_minor": 2
}
