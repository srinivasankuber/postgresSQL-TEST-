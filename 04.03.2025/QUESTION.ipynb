{
 "cells": [
  {
   "cell_type": "code",
   "execution_count": null,
   "metadata": {
    "vscode": {
     "languageId": "sql"
    }
   },
   "outputs": [],
   "source": [
    "-- QUESTION\n",
    "\n",
    "-- Find employees who checked in late (after shift_start by more than 10 minutes)\n",
    "\n",
    "SELECT emp_id, emp_name, check_in, shift_start\n",
    "FROM employee_attendance\n",
    "WHERE check_in::time > (shift_start + INTERVAL '10 minutes');\n",
    "\n",
    "\n"
   ]
  }
 ],
 "metadata": {
  "language_info": {
   "name": "python"
  }
 },
 "nbformat": 4,
 "nbformat_minor": 2
}
