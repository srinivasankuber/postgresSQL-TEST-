{
 "cells": [
  {
   "cell_type": "code",
   "execution_count": null,
   "metadata": {
    "vscode": {
     "languageId": "sql"
    }
   },
   "outputs": [],
   "source": [
    "--  create table employee_attendance\n",
    "\n",
    "CREATE TABLE employee_attendance (\n",
    "    emp_id VARCHAR(6) PRIMARY KEY,\n",
    "    emp_name VARCHAR(50),\n",
    "    check_in TIMESTAMP,\n",
    "    check_out TIMESTAMP,\n",
    "    leave_date DATE,\n",
    "    shift_start TIME,\n",
    "    shift_end TIME\n",
    ");\n"
   ]
  }
 ],
 "metadata": {
  "language_info": {
   "name": "python"
  }
 },
 "nbformat": 4,
 "nbformat_minor": 2
}
