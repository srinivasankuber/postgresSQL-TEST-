{
 "cells": [
  {
   "cell_type": "code",
   "execution_count": null,
   "metadata": {},
   "outputs": [],
   "source": [
    "# 2 insert data into employees_attendance\n",
    "\n",
    "INSERT INTO employee_attendance (emp_id, emp_name, check_in, check_out, leave_date, shift_start, shift_end)\n",
    "VALUES\n",
    "('E001', 'Arjun', '2025-03-01 09:15:00', '2025-03-01 18:05:00', NULL, '09:00:00', '18:00:00'),\n",
    "('E002', 'Meera', '2025-03-02 08:55:00', '2025-03-02 17:30:00', NULL, '09:00:00', '18:00:00'),\n",
    "('E003', 'Sita', NULL, NULL, '2025-03-01', '09:00:00', '18:00:00'),\n",
    "('E004', 'Ravi', '2025-03-01 09:05:00', '2025-03-01 18:10:00', NULL, '09:00:00', '18:00:00'),\n",
    "('E005', 'Kiran', '2025-03-01 09:10:00', '2025-03-01 19:15:00', NULL, '09:00:00', '18:00:00');\n"
   ]
  }
 ],
 "metadata": {
  "language_info": {
   "name": "python"
  }
 },
 "nbformat": 4,
 "nbformat_minor": 2
}
