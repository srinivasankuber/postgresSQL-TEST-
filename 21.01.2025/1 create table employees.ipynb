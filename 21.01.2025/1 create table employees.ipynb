{
 "cells": [
  {
   "cell_type": "code",
   "execution_count": null,
   "metadata": {
    "vscode": {
     "languageId": "sql"
    }
   },
   "outputs": [],
   "source": [
    "--  1 create tabele employees\n",
    "\n",
    "CREATE TABLE Employees (\n",
    "    EmployeeID SERIAL PRIMARY KEY,\n",
    "    FirstName VARCHAR(50) NOT NULL,\n",
    "    LastName VARCHAR(50) NOT NULL,\n",
    "    Department VARCHAR(50) NOT NULL,\n",
    "    Salary DECIMAL(10, 2) NOT NULL,\n",
    "    JoinDate DATE NOT NULL\n",
    ")\n"
   ]
  }
 ],
 "metadata": {
  "language_info": {
   "name": "python"
  }
 },
 "nbformat": 4,
 "nbformat_minor": 2
}
