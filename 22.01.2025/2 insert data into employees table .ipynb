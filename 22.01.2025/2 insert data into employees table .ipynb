{
 "cells": [
  {
   "cell_type": "code",
   "execution_count": null,
   "metadata": {
    "vscode": {
     "languageId": "sql"
    }
   },
   "outputs": [],
   "source": [
    "--  2 insert data into employees table \n",
    "\n",
    "INSERT INTO employees (name, department, salary, join_date)\n",
    "VALUES\n",
    "    ('Aravind', 'Finance', 75000.00, '2023-01-15'),\n",
    "    ('Nikitha', 'HR', 62000.00, '2022-06-20'),\n",
    "    ('Ram', 'IT', 82000.00, '2023-03-10'),\n",
    "    ('Mark', 'Finance', 68000.00, '2023-05-05'),\n",
    "    ('Sophia', 'IT', 95000.00, '2022-09-01');\n"
   ]
  }
 ],
 "metadata": {
  "language_info": {
   "name": "python"
  }
 },
 "nbformat": 4,
 "nbformat_minor": 2
}
