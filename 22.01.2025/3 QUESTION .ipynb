{
 "cells": [
  {
   "cell_type": "code",
   "execution_count": null,
   "metadata": {
    "vscode": {
     "languageId": "sql"
    }
   },
   "outputs": [],
   "source": [
    "-- 3 QUESTION\n",
    "\n",
    "--  Find the names of employees who joined within the last 6 months, along with their department and salary.\n",
    "--   Additionally, sort them by their salary in descending order.\n",
    "\n",
    "SELECT name AS empname, \n",
    "       department AS deptname, \n",
    "       salary \n",
    "FROM employees\n",
    "WHERE join_date >= CURRENT_DATE - INTERVAL '6 months'\n",
    "ORDER BY salary DESC;\n"
   ]
  }
 ],
 "metadata": {
  "language_info": {
   "name": "python"
  }
 },
 "nbformat": 4,
 "nbformat_minor": 2
}
