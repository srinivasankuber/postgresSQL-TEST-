{
 "cells": [
  {
   "cell_type": "code",
   "execution_count": null,
   "metadata": {
    "vscode": {
     "languageId": "sql"
    }
   },
   "outputs": [],
   "source": [
    "-- 2 insert data into products_sales \n",
    "\n",
    "INSERT INTO product_sales (product_id, product_name, category, price, quantity_sold, discount_percentage, tax_percentage)\n",
    "VALUES \n",
    "(01, 'Laptop', 'Electronics', 55000.75, 10, 10.50, 18.00),\n",
    "(02, 'Tablet', 'Electronics', 23000.99, 15, 5.00, 18.00),\n",
    "(03, 'Chair', 'Furniture', 3000.50, 25, 7.50, 12.00),\n",
    "(04, 'Sofa', 'Furniture', 15000.00, 5, 15.00, 12.00),\n",
    "(05, 'Book', 'Stationery', 450.25, 50, 2.50, 5.00),\n",
    "(06, 'Printer', 'Electronics', 14500.80, 8, 8.00, 18.00);\n"
   ]
  }
 ],
 "metadata": {
  "language_info": {
   "name": "python"
  }
 },
 "nbformat": 4,
 "nbformat_minor": 2
}
