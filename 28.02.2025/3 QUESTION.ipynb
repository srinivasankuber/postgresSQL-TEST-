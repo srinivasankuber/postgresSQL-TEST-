{
 "cells": [
  {
   "cell_type": "code",
   "execution_count": null,
   "metadata": {
    "vscode": {
     "languageId": "sql"
    }
   },
   "outputs": [],
   "source": [
    "--3 Find the maximum, minimum and average tax percentage across all products. \n",
    "\n",
    "SELECT \n",
    "    MAX(tax_percentage) AS max_tax_percentage,\n",
    "    MIN(tax_percentage) AS min_tax_percentage,\n",
    "    ROUND(AVG(tax_percentage), 2) AS avg_tax_percentage\n",
    "FROM product_sales;\n"
   ]
  }
 ],
 "metadata": {
  "language_info": {
   "name": "python"
  }
 },
 "nbformat": 4,
 "nbformat_minor": 2
}
