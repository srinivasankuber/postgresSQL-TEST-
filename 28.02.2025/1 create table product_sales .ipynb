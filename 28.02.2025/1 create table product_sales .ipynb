{
 "cells": [
  {
   "cell_type": "code",
   "execution_count": null,
   "metadata": {
    "vscode": {
     "languageId": "sql"
    }
   },
   "outputs": [],
   "source": [
    "-- 1 create table product_sales\n",
    "\n",
    "CREATE TABLE product_sales (\n",
    "    product_id SERIAL PRIMARY KEY,\n",
    "    product_name VARCHAR(50),\n",
    "    category VARCHAR(30),\n",
    "    price NUMERIC(10, 2),\n",
    "    quantity_sold INTEGER,\n",
    "    discount_percentage NUMERIC(5, 2),\n",
    "    tax_percentage NUMERIC(5, 2)\n",
    ");\n"
   ]
  }
 ],
 "metadata": {
  "language_info": {
   "name": "python"
  }
 },
 "nbformat": 4,
 "nbformat_minor": 2
}
