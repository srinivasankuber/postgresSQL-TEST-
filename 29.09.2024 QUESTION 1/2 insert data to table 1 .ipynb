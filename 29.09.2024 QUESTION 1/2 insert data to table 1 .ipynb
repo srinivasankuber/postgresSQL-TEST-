{
 "cells": [
  {
   "cell_type": "code",
   "execution_count": null,
   "metadata": {
    "vscode": {
     "languageId": "plaintext"
    }
   },
   "outputs": [],
   "source": [
    "-- 2 insert data to table 1\n",
    "\n",
    "insert into table1\n",
    "values\n",
    "(1, 'AA', 1000),\n",
    "(2, 'BB', 300)"
   ]
  }
 ],
 "metadata": {
  "language_info": {
   "name": "python"
  }
 },
 "nbformat": 4,
 "nbformat_minor": 2
}
