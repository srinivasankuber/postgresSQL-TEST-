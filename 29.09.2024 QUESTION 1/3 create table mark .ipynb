{
 "cells": [
  {
   "cell_type": "code",
   "execution_count": null,
   "metadata": {
    "vscode": {
     "languageId": "plaintext"
    }
   },
   "outputs": [],
   "source": [
    "-- 3 create table mark \n",
    "\n",
    "create table mark\n",
    "(\n",
    "empid integer,\n",
    "empname varchar (2),\n",
    "salary integer\n",
    ");\n"
   ]
  }
 ],
 "metadata": {
  "language_info": {
   "name": "python"
  }
 },
 "nbformat": 4,
 "nbformat_minor": 2
}
