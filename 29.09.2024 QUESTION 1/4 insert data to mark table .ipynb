{
 "cells": [
  {
   "cell_type": "code",
   "execution_count": null,
   "metadata": {
    "vscode": {
     "languageId": "sql"
    }
   },
   "outputs": [],
   "source": [
    "-- 4 insert data to mark table \n",
    "\n",
    "insert into mark\n",
    "values\n",
    "(2, 'BB', 400),\n",
    "(3, 'CC', 100)\n"
   ]
  }
 ],
 "metadata": {
  "language_info": {
   "name": "python"
  }
 },
 "nbformat": 4,
 "nbformat_minor": 2
}
