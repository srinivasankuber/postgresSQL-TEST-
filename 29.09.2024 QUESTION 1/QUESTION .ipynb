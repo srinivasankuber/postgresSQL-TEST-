{
 "cells": [
  {
   "cell_type": "code",
   "execution_count": null,
   "metadata": {
    "vscode": {
     "languageId": "sql"
    }
   },
   "outputs": [],
   "source": [
    "--3   find out the result from the combination of 2 input table\n",
    "\n",
    "SELECT \n",
    "    COALESCE(t1.empid, m.empid) AS empid,\n",
    "    COALESCE(t1.empname, m.empname) AS empname,\n",
    "    COALESCE(t1.salary, m.salary) AS total_salary\n",
    "FROM \n",
    "    table1 t1\n",
    "FULL OUTER JOIN \n",
    "    mark m\n",
    "ON \n",
    "    t1.empid = m.empid\n",
    "order by empid;\n"
   ]
  }
 ],
 "metadata": {
  "language_info": {
   "name": "python"
  }
 },
 "nbformat": 4,
 "nbformat_minor": 2
}
