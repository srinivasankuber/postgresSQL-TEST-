{
 "cells": [
  {
   "cell_type": "code",
   "execution_count": null,
   "metadata": {
    "vscode": {
     "languageId": "sql"
    }
   },
   "outputs": [],
   "source": [
    "-- 2 insert data into convert table \n",
    "\n",
    "insert into convert (month, category, amount)\n",
    "values\n",
    "('january', 'electronics', 1500),\n",
    "('january', 'clothing', 1200),\n",
    "('february', 'electronics', 1800),\n",
    "('february', 'clothing', 1300),\n",
    "('march', 'electronics', 1600),\n",
    "('march', 'clothing', 1100),\n",
    "('april', 'electronics', 1700),\n",
    "('april', 'clothing', 1400)"
   ]
  }
 ],
 "metadata": {
  "language_info": {
   "name": "python"
  }
 },
 "nbformat": 4,
 "nbformat_minor": 2
}
