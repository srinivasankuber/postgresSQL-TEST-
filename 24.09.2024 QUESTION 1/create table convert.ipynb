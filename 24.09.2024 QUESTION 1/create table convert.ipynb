{
 "cells": [
  {
   "cell_type": "code",
   "execution_count": null,
   "metadata": {
    "vscode": {
     "languageId": "sql"
    }
   },
   "outputs": [],
   "source": [
    "-- 1 create table named convert\n",
    "create table convert\n",
    "(\n",
    "month varchar (15),\n",
    "category varchar (20),\n",
    "amount integer\n",
    ")\n"
   ]
  }
 ],
 "metadata": {
  "language_info": {
   "name": "python"
  }
 },
 "nbformat": 4,
 "nbformat_minor": 2
}
