{
 "cells": [
  {
   "cell_type": "code",
   "execution_count": null,
   "metadata": {
    "vscode": {
     "languageId": "sql"
    }
   },
   "outputs": [],
   "source": [
    "-- QUESTION   TRANSFORM ROWS INTO COLUMNS\n",
    "\n",
    "SELECT *\n",
    "FROM crosstab(\n",
    "    'SELECT month, category, amount FROM change ORDER BY month, category',\n",
    "    'VALUES (''clothing''), (''electronics'')'\n",
    ") AS ct (month TEXT, electronics INT, clothing INT); "
   ]
  }
 ],
 "metadata": {
  "language_info": {
   "name": "python"
  }
 },
 "nbformat": 4,
 "nbformat_minor": 2
}
