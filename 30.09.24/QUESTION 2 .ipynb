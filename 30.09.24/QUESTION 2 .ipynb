{
 "cells": [
  {
   "cell_type": "code",
   "execution_count": null,
   "metadata": {
    "vscode": {
     "languageId": "sql"
    }
   },
   "outputs": [],
   "source": [
    "-- 2  Count the number of employees in each department.\n",
    "      \n",
    "       SELECT d.dept_name, COUNT(e.employee_id) AS emp_count\n",
    "       FROM departments d\n",
    "       LEFT JOIN employees e ON d.department_id = e.department_id\n",
    "       GROUP BY d.dept_name\n",
    "       ORDER BY emp_count DESC;"
   ]
  }
 ],
 "metadata": {
  "language_info": {
   "name": "python"
  }
 },
 "nbformat": 4,
 "nbformat_minor": 2
}
