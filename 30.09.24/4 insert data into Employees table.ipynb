{
 "cells": [
  {
   "cell_type": "code",
   "execution_count": null,
   "metadata": {
    "vscode": {
     "languageId": "sql"
    }
   },
   "outputs": [],
   "source": [
    "-- 4 insert data into Employees table\n",
    "\n",
    "INSERT INTO employees (employee_id, name, age, department_id) VALUES\n",
    "('e2401', 'John', 28, 'd2401'),\n",
    "('e2402', 'Alice', 25, 'd2402'),\n",
    "('e2403', 'Bob', 30, 'd2401'),\n",
    "('e2404', 'Carol', 27, 'd2403'),\n",
    "('e2405', 'David', 35, 'd2404'),\n",
    "('e2406', 'Eve', 29, 'd2402'),\n",
    "('e2407', 'Frank', 31, 'd2403'),\n",
    "('e2408', 'Grace', 26, 'd2404'),\n",
    "('e2409', 'Henry', 32, 'd2401'),\n",
    "('e2410', 'Isabel', 24, 'd2402');"
   ]
  }
 ],
 "metadata": {
  "language_info": {
   "name": "python"
  }
 },
 "nbformat": 4,
 "nbformat_minor": 2
}
