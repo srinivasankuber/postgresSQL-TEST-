{
 "cells": [
  {
   "cell_type": "code",
   "execution_count": null,
   "metadata": {
    "vscode": {
     "languageId": "sql"
    }
   },
   "outputs": [],
   "source": [
    " 2 insert data into department table--\n",
    "\n",
    "INSERT INTO departments (department_id, dept_name, location) VALUES\n",
    "('d2401', 'Finance', 'New York'),\n",
    "('d2402', 'HR', 'Chicago'),\n",
    "('d2403', 'IT', 'San Francisco'),\n",
    "('d2404', 'Marketing', 'Seattle'),\n",
    "('d2405', 'Sales', 'Boston'),\n",
    "('d2406', 'Production', 'Houston'),\n",
    "('d2407', 'Supply Chain', 'Miami'),\n",
    "('d2408', 'Procurement', 'Dallas'),\n",
    "('d2409', 'Legal', 'Austin'),\n",
    "('d2410', 'R&D', 'Denver');\n"
   ]
  }
 ],
 "metadata": {
  "language_info": {
   "name": "python"
  }
 },
 "nbformat": 4,
 "nbformat_minor": 2
}
