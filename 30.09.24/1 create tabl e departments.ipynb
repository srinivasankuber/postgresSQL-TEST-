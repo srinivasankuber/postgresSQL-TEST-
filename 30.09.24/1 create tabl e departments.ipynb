{
 "cells": [
  {
   "cell_type": "code",
   "execution_count": null,
   "metadata": {
    "vscode": {
     "languageId": "sql"
    }
   },
   "outputs": [],
   "source": [
    "   -- 1 create table depatments\n",
    "\n",
    "   create table Departments\n",
    "(\n",
    "\"department_id\" varchar (5),\n",
    "\"dept_name\" varchar (15),\n",
    "location varchar (25)\n",
    ")\n",
    "\n",
    "\n"
   ]
  }
 ],
 "metadata": {
  "language_info": {
   "name": "python"
  }
 },
 "nbformat": 4,
 "nbformat_minor": 2
}
