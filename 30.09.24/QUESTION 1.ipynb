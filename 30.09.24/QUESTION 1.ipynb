{
 "cells": [
  {
   "cell_type": "code",
   "execution_count": null,
   "metadata": {
    "vscode": {
     "languageId": "sql"
    }
   },
   "outputs": [],
   "source": [
    "    --   1 List all department names located in Chicago or San Francisco.\n",
    "       \n",
    "       \n",
    "       select \"dept_name\"\n",
    "       from departments\n",
    "       where  location IN ('Chicago', 'San Francisco');\n",
    "    "
   ]
  }
 ],
 "metadata": {
  "language_info": {
   "name": "python"
  }
 },
 "nbformat": 4,
 "nbformat_minor": 2
}
