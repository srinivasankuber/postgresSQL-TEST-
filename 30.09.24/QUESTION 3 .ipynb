{
 "cells": [
  {
   "cell_type": "code",
   "execution_count": null,
   "metadata": {
    "vscode": {
     "languageId": "sql"
    }
   },
   "outputs": [],
   "source": [
    "-- 3     Get the average age of employees for each department.\n",
    "      \n",
    "       SELECT d.dept_name, AVG(e.age) AS avg_age\n",
    "       FROM departments d\n",
    "       LEFT JOIN employees e ON d.department_id = e.department_id\n",
    "       GROUP BY d.dept_name\n",
    "       HAVING COUNT(e.employee_id) > 0\n",
    "       ORDER BY avg_age DESC;"
   ]
  }
 ],
 "metadata": {
  "language_info": {
   "name": "python"
  }
 },
 "nbformat": 4,
 "nbformat_minor": 2
}
