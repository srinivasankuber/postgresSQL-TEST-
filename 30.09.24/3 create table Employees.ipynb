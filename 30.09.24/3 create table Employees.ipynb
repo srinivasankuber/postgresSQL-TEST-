{
 "cells": [
  {
   "cell_type": "code",
   "execution_count": null,
   "metadata": {
    "vscode": {
     "languageId": "sql"
    }
   },
   "outputs": [],
   "source": [
    "-- 3 create table Employees\n",
    "\n",
    "create table \"Employees\"\n",
    "(\n",
    "\"employee_id\" varchar (8),\n",
    "nmae varchar (6),\n",
    "age integer ,\n",
    "\"department_id\" varchar (5)\n",
    ")\n",
    "\n"
   ]
  }
 ],
 "metadata": {
  "language_info": {
   "name": "python"
  }
 },
 "nbformat": 4,
 "nbformat_minor": 2
}
