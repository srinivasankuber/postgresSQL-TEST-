{
 "cells": [
  {
   "cell_type": "markdown",
   "metadata": {},
   "source": [
    "\"For this question, two tables are required. These tables are from the previous question (dated 23.09.2024, question 1). Please refer to that.\""
   ]
  },
  {
   "cell_type": "code",
   "execution_count": null,
   "metadata": {},
   "outputs": [],
   "source": [
    "-- 2 find books published in the last year and corresponding authors\n",
    "\n",
    "SELECT b.\"BookTitle\", a.\"AuthorName\"\n",
    "FROM book_table b\n",
    "JOIN authors_table a ON b.\"AuthorID\" = a.\"AuthorID\"\n",
    "WHERE b.\"PublicationYear\" >= DATE_TRUNC('year', CURRENT_DATE) - INTERVAL '1 year'\n",
    "ORDER BY a.\"AuthorName\";"
   ]
  }
 ],
 "metadata": {
  "language_info": {
   "name": "python"
  }
 },
 "nbformat": 4,
 "nbformat_minor": 2
}
