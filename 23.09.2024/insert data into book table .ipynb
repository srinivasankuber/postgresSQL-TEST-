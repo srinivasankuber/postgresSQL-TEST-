{
 "cells": [
  {
   "cell_type": "code",
   "execution_count": null,
   "metadata": {
    "vscode": {
     "languageId": "sql"
    }
   },
   "outputs": [],
   "source": [
    "--  4 insert data into book_table\n",
    "\n",
    "create table book_table\n",
    "(\n",
    "BOOKID integer primary key,\n",
    "AuthorID  integer,\n",
    "BookTitle varchar (40),\n",
    "PublicationYear date,\n",
    "constraint fk_authors_table foreign key (AuthorID) references authors_table(AuthorID)\n",
    ")\n"
   ]
  }
 ],
 "metadata": {
  "language_info": {
   "name": "python"
  }
 },
 "nbformat": 4,
 "nbformat_minor": 2
}
