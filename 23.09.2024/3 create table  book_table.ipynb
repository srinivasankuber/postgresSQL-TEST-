{
 "cells": [
  {
   "cell_type": "code",
   "execution_count": null,
   "metadata": {
    "vscode": {
     "languageId": "sql"
    }
   },
   "outputs": [],
   "source": [
    "-- 3 create table  book_table\n",
    "\n",
    "create table book_table\n",
    "(\n",
    "BOOKID integer primary key,\n",
    "AuthorID  integer,\n",
    "BookTitle varchar (40),\n",
    "PublicationYear date,\n",
    "constraint fk_authors_table foreign key (AuthorID) references authors_table(AuthorID)\n",
    ")\n",
    "\n"
   ]
  }
 ],
 "metadata": {
  "language_info": {
   "name": "python"
  }
 },
 "nbformat": 4,
 "nbformat_minor": 2
}
