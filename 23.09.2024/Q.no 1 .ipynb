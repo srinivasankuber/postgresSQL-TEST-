{
 "cells": [
  {
   "cell_type": "code",
   "execution_count": null,
   "metadata": {
    "vscode": {
     "languageId": "sql"
    }
   },
   "outputs": [],
   "source": [
    "-- 1  list all authors and numbers of book wriiten ?\n",
    "\n",
    "SELECT \n",
    "    a.\"AuthorName\", \n",
    "    COUNT(b.\"BookID\") AS \"NumberOfBooks\"\n",
    "FROM \n",
    "    authors_table a\n",
    "LEFT JOIN \n",
    "    book_table b \n",
    "ON \n",
    "    a.\"AuthorID\" = b.\"AuthorID\"\n",
    "GROUP BY \n",
    "    a.\"AuthorName\"\n",
    "ORDER BY \n",
    "    \"AuthorName\";"
   ]
  }
 ],
 "metadata": {
  "language_info": {
   "name": "python"
  }
 },
 "nbformat": 4,
 "nbformat_minor": 2
}
