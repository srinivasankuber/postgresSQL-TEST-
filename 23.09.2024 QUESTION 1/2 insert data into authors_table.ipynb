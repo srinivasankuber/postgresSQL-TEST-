{
 "cells": [
  {
   "cell_type": "code",
   "execution_count": null,
   "metadata": {
    "vscode": {
     "languageId": "sql"
    }
   },
   "outputs": [],
   "source": [
    "-- 2 insert data into authors table \n",
    "\n",
    "insert into authors_table (\"AuthorID\", \"AuthorName\")\n",
    "values\n",
    "(1, 'Author A'),\n",
    "(2, 'Author B'),\n",
    "(3, 'Author C'),\n",
    "(4, 'Author D'),\n",
    "(5, 'Author E')\n",
    "\n"
   ]
  }
 ],
 "metadata": {
  "language_info": {
   "name": "python"
  }
 },
 "nbformat": 4,
 "nbformat_minor": 2
}
