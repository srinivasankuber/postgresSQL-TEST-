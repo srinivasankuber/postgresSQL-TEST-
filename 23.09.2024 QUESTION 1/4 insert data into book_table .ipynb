{
 "cells": [
  {
   "cell_type": "code",
   "execution_count": null,
   "metadata": {
    "vscode": {
     "languageId": "sql"
    }
   },
   "outputs": [],
   "source": [
    "-- 4 insert data into book_table\n",
    "\n",
    "insert into book_table (\"BookID\", \"AuthorID\", \"BookTitle\", \"PublicationYear\")\n",
    "values\n",
    "(1, 1, 'BOOK 1 by Author A' , '2023-01-15'),\n",
    "(2, 1, 'BOOK 2 by Author A',  '2023-07-20'),\n",
    "(3, 2, 'BOOK 1 by Author B', '2022-03-10'),\n",
    "(4, 2, 'BOOK 2 by Author B', '2023-05-05'),\n",
    "(5, 3, 'BOOK 1 by Author C', '2023-06-25'),\n",
    "(6, 3, 'BOOK 2 by Author C', '2021-08-15'),\n",
    "(7, 4, 'BOOK 1 by Author D', '2022-09-30'),\n",
    "(8, 4, 'BOOK 2 by Author D', '2023-12-05'),\n",
    "(9, 5, 'BOOK 1 by Author E', '2023-04-17'),\n",
    "(10, 5, 'BOOK 2 by Author E', '2020-11-01'); \n",
    "\n"
   ]
  }
 ],
 "metadata": {
  "language_info": {
   "name": "python"
  }
 },
 "nbformat": 4,
 "nbformat_minor": 2
}
