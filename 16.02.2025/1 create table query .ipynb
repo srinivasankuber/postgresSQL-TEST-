{
 "cells": [
  {
   "cell_type": "code",
   "execution_count": null,
   "metadata": {
    "vscode": {
     "languageId": "sql"
    }
   },
   "outputs": [],
   "source": [
    "-- 1 create table query \n",
    "\n",
    "CREATE TABLE sales_data (\n",
    "    id SERIAL PRIMARY KEY,\n",
    "    product_name VARCHAR(50),\n",
    "    quantity_sold INT,\n",
    "    unit_price NUMERIC(10,2),\n",
    "    discount NUMERIC(5,2),\n",
    "    total_revenue NUMERIC(10,2)\n",
    ");\n"
   ]
  }
 ],
 "metadata": {
  "language_info": {
   "name": "python"
  }
 },
 "nbformat": 4,
 "nbformat_minor": 2
}
