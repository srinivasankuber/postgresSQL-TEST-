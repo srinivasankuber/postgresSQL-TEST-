{
 "cells": [
  {
   "cell_type": "code",
   "execution_count": null,
   "metadata": {
    "vscode": {
     "languageId": "sql"
    }
   },
   "outputs": [],
   "source": [
    "-- 2 insert data query \n",
    "\n",
    "INSERT INTO sales_data (product_name, quantity_sold, unit_price, discount, total_revenue) VALUES\n",
    "('Laptop', 10, 50000.00, 5000.00, 450000.00),\n",
    "('Smartphone', 25, 20000.00, 2000.00, 480000.00),\n",
    "('Tablet', 15, 15000.00, 1000.00, 210000.00),\n",
    "('Headphones', 50, 2000.00, 200.00, 90000.00),\n",
    "('Smartwatch', 30, 10000.00, 500.00, 285000.00);\n"
   ]
  }
 ],
 "metadata": {
  "language_info": {
   "name": "python"
  }
 },
 "nbformat": 4,
 "nbformat_minor": 2
}
