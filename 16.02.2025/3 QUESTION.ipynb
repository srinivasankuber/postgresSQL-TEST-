{
 "cells": [
  {
   "cell_type": "code",
   "execution_count": null,
   "metadata": {
    "vscode": {
     "languageId": "sql"
    }
   },
   "outputs": [],
   "source": [
    "-- 3 QUESTION\n",
    "\n",
    "-- Calculate the total revenue before discount for each product\n",
    "\n",
    "SELECT product_name, quantity_sold * unit_price AS total_revenue_before_discount\n",
    "FROM sales_data;\n"
   ]
  }
 ],
 "metadata": {
  "language_info": {
   "name": "python"
  }
 },
 "nbformat": 4,
 "nbformat_minor": 2
}
