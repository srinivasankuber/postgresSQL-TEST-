{
 "cells": [
  {
   "cell_type": "code",
   "execution_count": null,
   "metadata": {
    "vscode": {
     "languageId": "sql"
    }
   },
   "outputs": [],
   "source": [
    "-- 2 insert data to salary table\n",
    "\n",
    "insert into salary (\"emp_id\", name, salary, \"dept_id\")\n",
    "values\n",
    "\t(101, 'rajesh', 3000, 11),\n",
    "\t(102, 'ram', 4000, 12),\n",
    "\t(103, 'ragul', 5000, 13),\n",
    "\t(104,'bala', 3000, 11),\n",
    "\t(105, 'julian', 4000, 12),\n",
    "\t(109, 'vijay', 7000, 12),\n",
    "\t(108, 'raj', 8000, 11)"
   ]
  }
 ],
 "metadata": {
  "language_info": {
   "name": "python"
  }
 },
 "nbformat": 4,
 "nbformat_minor": 2
}
