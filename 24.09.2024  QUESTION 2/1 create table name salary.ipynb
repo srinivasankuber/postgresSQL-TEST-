{
 "cells": [
  {
   "cell_type": "code",
   "execution_count": null,
   "metadata": {
    "vscode": {
     "languageId": "sql"
    }
   },
   "outputs": [],
   "source": [
    "-- 1 create table named salary\n",
    "\n",
    "create table salary\n",
    "(\n",
    "\"emp_id\" integer,\n",
    "name varchar (15),\n",
    "salary integer,\n",
    "\"dept_id\" integer\n",
    ")"
   ]
  }
 ],
 "metadata": {
  "language_info": {
   "name": "python"
  }
 },
 "nbformat": 4,
 "nbformat_minor": 2
}
