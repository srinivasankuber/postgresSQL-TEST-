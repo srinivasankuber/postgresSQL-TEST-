{
 "cells": [
  {
   "cell_type": "code",
   "execution_count": null,
   "metadata": {
    "vscode": {
     "languageId": "sql"
    }
   },
   "outputs": [],
   "source": [
    " -- 2  return all  employees whose salary is same in same department\n",
    "\n",
    "SELECT s1.emp_id, s1.name, s1.salary, s1.dept_id\n",
    "FROM salary s1\n",
    "JOIN (\n",
    "    SELECT salary, dept_id\n",
    "    FROM salary\n",
    "    GROUP BY salary, dept_id\n",
    "    HAVING COUNT(*) > 1\n",
    ") s2\n",
    "ON s1.salary = s2.salary AND s1.dept_id = s2.dept_id\n",
    "ORDER BY s1.dept_id;\n"
   ]
  }
 ],
 "metadata": {
  "language_info": {
   "name": "python"
  }
 },
 "nbformat": 4,
 "nbformat_minor": 2
}
