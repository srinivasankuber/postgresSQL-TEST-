{
 "cells": [
  {
   "cell_type": "code",
   "execution_count": null,
   "metadata": {
    "vscode": {
     "languageId": "sql"
    }
   },
   "outputs": [],
   "source": [
    "-- 3 QUESTION\n",
    "\n",
    "--  Retrieve all department names and locations for departments located in Chicago or New York.\n",
    "\n",
    "SELECT dept_name, location \n",
    "FROM departments \n",
    "WHERE location IN ('Chicago', 'New York');\n",
    "\n",
    "\n"
   ]
  }
 ],
 "metadata": {
  "language_info": {
   "name": "python"
  }
 },
 "nbformat": 4,
 "nbformat_minor": 2
}
