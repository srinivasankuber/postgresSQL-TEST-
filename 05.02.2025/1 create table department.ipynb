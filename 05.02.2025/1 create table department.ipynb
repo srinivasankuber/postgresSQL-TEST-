{
 "cells": [
  {
   "cell_type": "code",
   "execution_count": null,
   "metadata": {
    "vscode": {
     "languageId": "sql"
    }
   },
   "outputs": [],
   "source": [
    "--  1 create table department\n",
    "\n",
    "CREATE TABLE departments (\n",
    "    dept_id SERIAL PRIMARY KEY,\n",
    "    dept_name VARCHAR(100) NOT NULL,\n",
    "    location VARCHAR(100) NOT NULL\n",
    ")\n"
   ]
  }
 ],
 "metadata": {
  "language_info": {
   "name": "python"
  }
 },
 "nbformat": 4,
 "nbformat_minor": 2
}
