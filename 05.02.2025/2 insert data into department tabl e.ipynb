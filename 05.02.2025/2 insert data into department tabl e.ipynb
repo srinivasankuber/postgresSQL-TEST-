{
 "cells": [
  {
   "cell_type": "code",
   "execution_count": null,
   "metadata": {
    "vscode": {
     "languageId": "sql"
    }
   },
   "outputs": [],
   "source": [
    "-- 2 insert data into department table \n",
    "\n",
    "INSERT INTO departments (dept_id, dept_name, location) VALUES\n",
    "(1, 'Finance', 'New York'),\n",
    "(2, 'HR', 'San Francisco'),\n",
    "(3, 'IT', 'Chicago'),\n",
    "(4, 'Marketing', 'Los Angeles'),\n",
    "(5, 'Sales', 'Houston');\n"
   ]
  }
 ],
 "metadata": {
  "language_info": {
   "name": "python"
  }
 },
 "nbformat": 4,
 "nbformat_minor": 2
}
