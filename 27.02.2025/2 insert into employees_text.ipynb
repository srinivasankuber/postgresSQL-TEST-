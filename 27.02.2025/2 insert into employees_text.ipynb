{
 "cells": [
  {
   "cell_type": "code",
   "execution_count": null,
   "metadata": {
    "vscode": {
     "languageId": "sql"
    }
   },
   "outputs": [],
   "source": [
    "-- 2 insert data into employees_text\n",
    "\n",
    "INSERT INTO employees_text (full_name, email, address, phone, job_title) VALUES\n",
    "('Arjun Sharma', 'arjun.sharma@example.com', '45 MG Road, Bangalore, India', '+91 9876543210', 'Data Analyst'),\n",
    "('Priya Verma', 'priya.verma@example.com', '21 Park Street, Kolkata, India', '+91 7890654321', 'Software Engineer'),\n",
    "('Rohan Kapoor', 'rohan.kapoor@example.com', '78 Nelson Road, Mumbai, India', '+91 9012345678', 'Database Developer'),\n",
    "('Anita Iyer', 'anita.iyer@example.com', '102 Green Avenue, Chennai, India', '+91 8112233445', 'HR Manager'),\n",
    "('Vikram Mehta', 'vikram.mehta@example.com', '12 Patel Nagar, Delhi, India', '+91 9877766554', 'Project Manager');\n"
   ]
  }
 ],
 "metadata": {
  "language_info": {
   "name": "python"
  }
 },
 "nbformat": 4,
 "nbformat_minor": 2
}
