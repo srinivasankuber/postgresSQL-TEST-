{
 "cells": [
  {
   "cell_type": "code",
   "execution_count": null,
   "metadata": {
    "vscode": {
     "languageId": "sql"
    }
   },
   "outputs": [],
   "source": [
    "-- QUESTION\n",
    "\n",
    "-- Find the total salary paid in each department, including the department name, \n",
    "-- and display only those departments where the total salary exceeds 100,000.\n",
    "--  Sort the results by total salary in descending order.\n",
    "\n",
    "\n",
    "SELECT d.department_name, SUM(e.salary) AS total_salary\n",
    "FROM employees e\n",
    "JOIN departments d ON e.department_id = d.department_id\n",
    "GROUP BY d.department_name\n",
    "HAVING SUM(e.salary) > 100000\n",
    "ORDER BY total_salary DESC;\n",
    "\n"
   ]
  }
 ],
 "metadata": {
  "language_info": {
   "name": "python"
  }
 },
 "nbformat": 4,
 "nbformat_minor": 2
}
