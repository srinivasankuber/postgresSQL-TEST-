{
 "cells": [
  {
   "cell_type": "code",
   "execution_count": null,
   "metadata": {
    "vscode": {
     "languageId": "sql"
    }
   },
   "outputs": [],
   "source": [
    "-- 1 create table query \n",
    "\n",
    "CREATE TABLE employees (\n",
    "    employee_id SERIAL PRIMARY KEY,\n",
    "    first_name VARCHAR(50) NOT NULL,\n",
    "    last_name VARCHAR(50) NOT NULL,\n",
    "    department_id INT NOT NULL,\n",
    "    salary NUMERIC(10, 2),\n",
    "    hire_date DATE NOT NULL,\n",
    "    manager_id INT,\n",
    "    FOREIGN KEY (department_id) REFERENCES departments(department_id),\n",
    "    FOREIGN KEY (manager_id) REFERENCES employees(employee_id)\n",
    ");\n"
   ]
  }
 ],
 "metadata": {
  "language_info": {
   "name": "python"
  }
 },
 "nbformat": 4,
 "nbformat_minor": 2
}
