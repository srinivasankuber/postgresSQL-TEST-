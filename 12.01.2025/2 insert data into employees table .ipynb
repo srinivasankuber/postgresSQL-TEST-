{
 "cells": [
  {
   "cell_type": "code",
   "execution_count": null,
   "metadata": {
    "vscode": {
     "languageId": "sql"
    }
   },
   "outputs": [],
   "source": [
    "--  2 insert data into employees table \n",
    "\n",
    "INSERT INTO employees (first_name, last_name, department_id, salary, hire_date, manager_id) \n",
    "VALUES \n",
    "('Aravind', 'Rao', 1, 50000.00, '2023-02-15', NULL),\n",
    "('Nikitha', 'Kumar', 2, 60000.00, '2022-10-10', 1),\n",
    "('Ram', 'Sharma', 1, 55000.00, '2023-01-20', 1),\n",
    "('Mark', 'Smith', 3, 70000.00, '2021-06-05', NULL);\n"
   ]
  }
 ],
 "metadata": {
  "language_info": {
   "name": "python"
  }
 },
 "nbformat": 4,
 "nbformat_minor": 2
}
