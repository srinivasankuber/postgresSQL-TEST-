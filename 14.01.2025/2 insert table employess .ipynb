{
 "cells": [
  {
   "cell_type": "code",
   "execution_count": null,
   "metadata": {
    "vscode": {
     "languageId": "sql"
    }
   },
   "outputs": [],
   "source": [
    "--  2 insert table employees \n",
    "\n",
    "INSERT INTO employees (name, email, department, hire_date, salary, manager_id) \n",
    "VALUES\n",
    "('Aravind', 'aravind@example.com', 'Finance', '2023-01-15', 75000, NULL),\n",
    "('Nikitha', 'nikitha@example.com', 'HR', '2021-05-20', 60000, 1),\n",
    "('Ram', 'ram@example.com', 'IT', '2022-03-12', 80000, 1),\n",
    "('Mark', 'mark@example.com', 'Finance', '2023-06-10', 70000, NULL);\n"
   ]
  }
 ],
 "metadata": {
  "language_info": {
   "name": "python"
  }
 },
 "nbformat": 4,
 "nbformat_minor": 2
}
