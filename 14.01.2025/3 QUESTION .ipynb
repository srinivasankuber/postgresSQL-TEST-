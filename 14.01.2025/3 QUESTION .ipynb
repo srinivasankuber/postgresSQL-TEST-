{
 "cells": [
  {
   "cell_type": "code",
   "execution_count": null,
   "metadata": {
    "vscode": {
     "languageId": "sql"
    }
   },
   "outputs": [],
   "source": [
    "--  QUESTION\n",
    "\n",
    "-- How can you find the cumulative salary for each department in the order of\n",
    "--  hire date, showing the department, employee name, hire date, salary, and cumulative salary?\n",
    "\n",
    "SELECT \n",
    "    department,\n",
    "    name AS empname,\n",
    "    hire_date,\n",
    "    salary,\n",
    "    SUM(salary) OVER (PARTITION BY department ORDER BY hire_date) AS cumulative_salary\n",
    "FROM employees\n",
    "ORDER BY department, hire_date;\n"
   ]
  }
 ],
 "metadata": {
  "language_info": {
   "name": "python"
  }
 },
 "nbformat": 4,
 "nbformat_minor": 2
}
