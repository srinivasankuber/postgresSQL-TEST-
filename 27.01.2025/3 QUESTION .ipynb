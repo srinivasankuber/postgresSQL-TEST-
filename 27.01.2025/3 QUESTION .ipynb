{
 "cells": [
  {
   "cell_type": "code",
   "execution_count": null,
   "metadata": {
    "vscode": {
     "languageId": "sql"
    }
   },
   "outputs": [],
   "source": [
    "--  3 QUESTION\n",
    "\n",
    "--  Update salaries of employees based on job role\n",
    "-- Increase the salary by 10% for all employees with the job role Analyst.\n",
    "\n",
    "UPDATE employees\n",
    "SET salary = salary * 1.10\n",
    "WHERE job_role = 'Analyst';\n",
    "\n",
    "\n",
    "\n",
    "\n"
   ]
  }
 ],
 "metadata": {
  "language_info": {
   "name": "python"
  }
 },
 "nbformat": 4,
 "nbformat_minor": 2
}
