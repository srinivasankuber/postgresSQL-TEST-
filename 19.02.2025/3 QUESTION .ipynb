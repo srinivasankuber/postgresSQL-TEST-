{
 "cells": [
  {
   "cell_type": "code",
   "execution_count": null,
   "metadata": {
    "vscode": {
     "languageId": "sql"
    }
   },
   "outputs": [],
   "source": [
    "-- 3 QUESTION\n",
    "\n",
    "-- Increase the price of all Apple products by 10%.\n",
    "\n",
    "UPDATE products_catalog\n",
    "SET details = jsonb_set(\n",
    "    details, \n",
    "    '{price}', \n",
    "    to_jsonb((details->>'price')::NUMERIC * 1.10)\n",
    ")\n",
    "WHERE details->>'brand' = 'Apple';\n"
   ]
  }
 ],
 "metadata": {
  "language_info": {
   "name": "python"
  }
 },
 "nbformat": 4,
 "nbformat_minor": 2
}
