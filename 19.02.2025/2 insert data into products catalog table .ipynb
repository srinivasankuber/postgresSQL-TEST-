{
 "cells": [
  {
   "cell_type": "code",
   "execution_count": null,
   "metadata": {
    "vscode": {
     "languageId": "sql"
    }
   },
   "outputs": [],
   "source": [
    "-- 2 insert data into products catalog table \n",
    "\n",
    "INSERT INTO products_catalog (name, category, details) VALUES\n",
    "('iPhone 15 Pro', 'Smartphone', '{\"brand\": \"Apple\", \"storage\": \"256GB\", \"color\": \"Blue\", \"price\": 1299}'),\n",
    "('Samsung Galaxy S23', 'Smartphone', '{\"brand\": \"Samsung\", \"storage\": \"512GB\", \"color\": \"Black\", \"price\": 1199}'),\n",
    "('MacBook Pro 14', 'Laptop', '{\"brand\": \"Apple\", \"processor\": \"M3\", \"ram\": \"16GB\", \"price\": 1999}'),\n",
    "('Dell XPS 13', 'Laptop', '{\"brand\": \"Dell\", \"processor\": \"Intel i7\", \"ram\": \"16GB\", \"price\": 1799}');\n"
   ]
  }
 ],
 "metadata": {
  "language_info": {
   "name": "python"
  }
 },
 "nbformat": 4,
 "nbformat_minor": 2
}
