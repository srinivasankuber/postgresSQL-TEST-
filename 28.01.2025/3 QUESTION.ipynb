{
 "cells": [
  {
   "cell_type": "code",
   "execution_count": null,
   "metadata": {
    "vscode": {
     "languageId": "sql"
    }
   },
   "outputs": [],
   "source": [
    "--  3 QUESTION \n",
    "\n",
    "-- Delete employees who have the lowest salary in each department\n",
    "\n",
    "DELETE FROM employees\n",
    "WHERE (department_id, salary) IN (\n",
    "    SELECT department_id, MIN(salary)\n",
    "    FROM employees\n",
    "    GROUP BY department_id\n",
    ");\n"
   ]
  }
 ],
 "metadata": {
  "language_info": {
   "name": "python"
  }
 },
 "nbformat": 4,
 "nbformat_minor": 2
}
