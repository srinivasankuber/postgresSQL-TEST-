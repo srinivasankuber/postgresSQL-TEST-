{
 "cells": [
  {
   "cell_type": "code",
   "execution_count": null,
   "metadata": {},
   "outputs": [],
   "source": [
    " -- 2  insert data into revenue table\n",
    "insert into revenue (company, year, revenue) \n",
    "values\n",
    "\t('ABC1', 2000, 100),\n",
    "\t('ABC1', 2001, 110),\n",
    "\t('ABC1', 2002, 120),\n",
    "\t('ABC2', 2000, 100),\n",
    "\t('ABC2', 2001, 90),\n",
    "\t('ABC2', 2002, 120),\n",
    "\t('ABC3', 2000, 500),\n",
    "\t('ABC3', 2001, 400),\n",
    "\t('ABC3', 2002, 600),\n",
    "\t('ABC3', 2003, 800)"
   ]
  }
 ],
 "metadata": {
  "language_info": {
   "name": "python"
  }
 },
 "nbformat": 4,
 "nbformat_minor": 2
}
