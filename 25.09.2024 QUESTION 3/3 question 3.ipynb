{
 "cells": [
  {
   "cell_type": "code",
   "execution_count": null,
   "metadata": {},
   "outputs": [],
   "source": [
    "--3 find the company only whose revenue is increasing every year?\n",
    "\n",
    "SELECT company\n",
    "FROM revenue r1\n",
    "WHERE NOT EXISTS (\n",
    "    SELECT 1\n",
    "    FROM revenue r2\n",
    "    WHERE r1.company = r2.company\n",
    "    AND r2.year = r1.year + 1\n",
    "    AND r2.revenue <= r1.revenue\n",
    ")\n",
    "GROUP BY r1.company\n",
    "HAVING COUNT(*) = (SELECT COUNT(*)\n",
    "                   FROM revenue r3\n",
    "                   WHERE r3.company = r1.company);\n"
   ]
  }
 ],
 "metadata": {
  "language_info": {
   "name": "python"
  }
 },
 "nbformat": 4,
 "nbformat_minor": 2
}
