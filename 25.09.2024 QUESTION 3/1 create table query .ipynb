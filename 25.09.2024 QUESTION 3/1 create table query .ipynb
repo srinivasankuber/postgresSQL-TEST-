{
 "cells": [
  {
   "cell_type": "code",
   "execution_count": null,
   "metadata": {},
   "outputs": [],
   "source": [
    "1 -- create table query for table revenue \n",
    "create table revenue \n",
    "(\n",
    "company varchar (5),\n",
    "year integer, \n",
    "revenue integer \n",
    ")"
   ]
  }
 ],
 "metadata": {
  "language_info": {
   "name": "python"
  }
 },
 "nbformat": 4,
 "nbformat_minor": 2
}
