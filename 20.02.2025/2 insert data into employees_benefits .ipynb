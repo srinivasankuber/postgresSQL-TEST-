{
 "cells": [
  {
   "cell_type": "code",
   "execution_count": null,
   "metadata": {
    "vscode": {
     "languageId": "sql"
    }
   },
   "outputs": [],
   "source": [
    "-- 2 insert data into employees_benefits \n",
    "\n",
    "INSERT INTO employees_benefits (emp_benefit_id, employees, benefits_id, benefits, description) VALUES\n",
    "('B2401', 'E2401', 'BF001', 'Health Insurance', 'Covers medical expenses up to 5L INR'),\n",
    "('B2402', 'E2402', 'BF002', 'Retirement Plan', 'Employer contributes 10% to pension fund'),\n",
    "('B2403', 'E2403', 'BF003', 'Gym Membership', 'Access to corporate gym facilities'),\n",
    "('B2404', 'E2404', 'BF004', 'Stock Options', 'Eligible for 100 company shares after 3 years'),\n",
    "('B2405', 'E2405', 'BF005', 'Paid Leave', '25 days of paid leave per year');\n"
   ]
  }
 ],
 "metadata": {
  "language_info": {
   "name": "python"
  }
 },
 "nbformat": 4,
 "nbformat_minor": 2
}
