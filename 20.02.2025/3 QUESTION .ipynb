{
 "cells": [
  {
   "cell_type": "code",
   "execution_count": null,
   "metadata": {
    "vscode": {
     "languageId": "sql"
    }
   },
   "outputs": [],
   "source": [
    "-- 3 QUESTION\n",
    "\n",
    "-- Find all employees who have more than one benefit.\n",
    "\n",
    "SELECT employees, COUNT(*) AS total_benefits\n",
    "FROM employees_benefits\n",
    "GROUP BY employees\n",
    "HAVING COUNT(*) > 1;\n"
   ]
  }
 ],
 "metadata": {
  "language_info": {
   "name": "python"
  }
 },
 "nbformat": 4,
 "nbformat_minor": 2
}
