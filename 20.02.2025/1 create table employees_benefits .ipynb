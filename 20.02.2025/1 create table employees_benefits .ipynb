{
 "cells": [
  {
   "cell_type": "code",
   "execution_count": null,
   "metadata": {
    "vscode": {
     "languageId": "sql"
    }
   },
   "outputs": [],
   "source": [
    "-- 1 create table employees_benefits\n",
    "\n",
    "CREATE TABLE employees_benefits (\n",
    "    emp_benefit_id VARCHAR(6) PRIMARY KEY,\n",
    "    employees VARCHAR(6),  -\n",
    "    benefits_id VARCHAR(6),\n",
    "    benefits VARCHAR(50),\n",
    "    description VARCHAR(100)\n",
    ");\n"
   ]
  }
 ],
 "metadata": {
  "language_info": {
   "name": "python"
  }
 },
 "nbformat": 4,
 "nbformat_minor": 2
}
