{
 "cells": [
  {
   "cell_type": "code",
   "execution_count": null,
   "metadata": {
    "vscode": {
     "languageId": "sql"
    }
   },
   "outputs": [],
   "source": [
    "-- 2 insert into employees table \n",
    "\n",
    "INSERT INTO employees (id, f_name, l_name, manager_id, role_id, hire_date, salary, email)\n",
    "VALUES\n",
    "    ('e240101', 'Aravind', 'Kumar', TRUE, 'ro2401', '2023-06-12', 80000.00, 'aravind.kumar@example.com'),\n",
    "    ('e240102', 'Nikitha', 'Sharma', FALSE, 'ro2402', '2022-09-15', 65000.00, 'nikitha.sharma@example.com'),\n",
    "    ('e240103', 'Ram', 'Verma', FALSE, 'ro2403', '2021-05-20', 72000.00, 'ram.verma@example.com'),\n",
    "    ('e240104', 'Mark', 'Fernandez', TRUE, 'ro2401', '2020-11-25', 90000.00, 'mark.fernandez@example.com');\n"
   ]
  }
 ],
 "metadata": {
  "language_info": {
   "name": "python"
  }
 },
 "nbformat": 4,
 "nbformat_minor": 2
}
