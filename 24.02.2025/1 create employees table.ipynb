{
 "cells": [
  {
   "cell_type": "code",
   "execution_count": null,
   "metadata": {
    "vscode": {
     "languageId": "sql"
    }
   },
   "outputs": [],
   "source": [
    "-- 1 create employees table \n",
    "\n",
    "CREATE TABLE employees (\n",
    "    id VARCHAR(6) PRIMARY KEY,\n",
    "    f_name VARCHAR(30) NOT NULL,\n",
    "    l_name VARCHAR(20) NOT NULL,\n",
    "    manager_id BOOLEAN DEFAULT FALSE,\n",
    "    role_id VARCHAR(6) REFERENCES roles(id),\n",
    "    hire_date DATE NOT NULL,\n",
    "    salary NUMERIC(10,2) CHECK (salary > 0),\n",
    "    email VARCHAR(30) UNIQUE CHECK (email LIKE '%@%.%')\n",
    ");\n"
   ]
  }
 ],
 "metadata": {
  "language_info": {
   "name": "python"
  }
 },
 "nbformat": 4,
 "nbformat_minor": 2
}
