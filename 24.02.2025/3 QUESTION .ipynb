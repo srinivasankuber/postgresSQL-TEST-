{
 "cells": [
  {
   "cell_type": "code",
   "execution_count": null,
   "metadata": {
    "vscode": {
     "languageId": "sql"
    }
   },
   "outputs": [],
   "source": [
    "-- 3 QUESTION\n",
    "\n",
    "-- Find employees who earn above the department's average salary and sort them in descending order of salary.\n",
    "\n",
    "SELECT e.id, e.f_name, e.l_name, e.salary, r.department\n",
    "FROM employees e\n",
    "JOIN roles r ON e.role_id = r.id\n",
    "JOIN (\n",
    "    SELECT r.department, AVG(e.salary) AS avg_salary\n",
    "    FROM employees e\n",
    "    JOIN roles r ON e.role_id = r.id\n",
    "    GROUP BY r.department\n",
    ") AS dept_avg ON r.department = dept_avg.department\n",
    "WHERE e.salary > dept_avg.avg_salary\n",
    "ORDER BY e.salary DESC;\n"
   ]
  }
 ],
 "metadata": {
  "language_info": {
   "name": "python"
  }
 },
 "nbformat": 4,
 "nbformat_minor": 2
}
