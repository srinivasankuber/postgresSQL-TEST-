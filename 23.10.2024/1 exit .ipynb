{
 "cells": [
  {
   "cell_type": "code",
   "execution_count": null,
   "metadata": {
    "vscode": {
     "languageId": "sql"
    }
   },
   "outputs": [],
   "source": [
    "-- 1 exit \n",
    "\n",
    "do\n",
    "$$\n",
    "declare\n",
    "  i int = 0;\n",
    "  j int = 0;\n",
    "begin\n",
    "  <<outer_loop>>\n",
    "  loop\n",
    "     i = i + 1;\n",
    "     exit when i >3;\n",
    "     j = 0;\n",
    "     << inner_loop>>\n",
    "     loop\n",
    "        j = j +1;\n",
    "        exit outer_loop when j > 3;\n",
    "        raise notice '(i,j): (%,%)', i,j;\n",
    "     end loop inner_loop;\n",
    "end loop outer_loop;\n",
    "end;\n",
    "$$   "
   ]
  }
 ],
 "metadata": {
  "language_info": {
   "name": "python"
  }
 },
 "nbformat": 4,
 "nbformat_minor": 2
}
