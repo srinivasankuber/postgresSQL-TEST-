{
 "cells": [
  {
   "cell_type": "code",
   "execution_count": null,
   "metadata": {},
   "outputs": [],
   "source": [
    "--2 find the average temperature for each day\n",
    "\n",
    "\n",
    "SELECT \n",
    "    DATE(\"reading_time\") AS date,\n",
    "    ROUND(AVG(temperature::numeric), 2) AS average_temperature\n",
    "FROM \n",
    "    temperature\n",
    "GROUP BY \n",
    "    DATE(\"reading_time\")\n",
    "ORDER BY \n",
    "    DATE(\"reading_time\");"
   ]
  }
 ],
 "metadata": {
  "language_info": {
   "name": "python"
  }
 },
 "nbformat": 4,
 "nbformat_minor": 2
}
