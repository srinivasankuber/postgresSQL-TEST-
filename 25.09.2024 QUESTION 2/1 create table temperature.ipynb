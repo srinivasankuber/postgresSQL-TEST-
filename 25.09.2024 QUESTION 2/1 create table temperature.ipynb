{
 "cells": [
  {
   "cell_type": "code",
   "execution_count": null,
   "metadata": {},
   "outputs": [],
   "source": [
    "--1 create table temperature\n",
    "\n",
    "create table temperature\n",
    "(\n",
    "\"sensor_id\" integer,\n",
    "\"reading_time\" varchar (30),\n",
    "temperature numeric (5,5)\n",
    ")"
   ]
  }
 ],
 "metadata": {
  "language_info": {
   "name": "python"
  }
 },
 "nbformat": 4,
 "nbformat_minor": 2
}
