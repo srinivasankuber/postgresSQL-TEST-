{
 "cells": [
  {
   "cell_type": "code",
   "execution_count": null,
   "metadata": {},
   "outputs": [],
   "source": [
    "--2 insert data to temperature table\n",
    "\n",
    "insert into temperature (\"sensor_id\", \"reading_time\",temperature)\n",
    "values\n",
    "\t(1, '2024-07-01 08:00:00', '25.4'),\n",
    "\t(1, '2024-07-01 12:00:00', '27.8'),\n",
    "\t(1, '2024-07-01 16:00:00', '29.2'),\n",
    "\t(2, '2024-07-02 08:00:00', '24.7'),\n",
    "\t(2, '2024-07-02 12:00:00', '26.3'),\n",
    "\t(2, '2024-07-02 16:00:00', '28.1'),\n",
    "\t(3, '2024-07-03 08:00:00', '23.5'),\n",
    "\t(3, '2024-07-03 12:00:00', '25'),\n",
    "\t(3, '2024-07-03 16:00:00', '27.6'),\n",
    "\t(1, '2024-07-04 08:00:00', '22.9')"
   ]
  }
 ],
 "metadata": {
  "language_info": {
   "name": "python"
  }
 },
 "nbformat": 4,
 "nbformat_minor": 2
}
