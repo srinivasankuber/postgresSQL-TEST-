{
 "cells": [
  {
   "cell_type": "code",
   "execution_count": null,
   "metadata": {
    "vscode": {
     "languageId": "sql"
    }
   },
   "outputs": [],
   "source": [
    "-- 3 QUESTION \n",
    "\n",
    "-- Find the second highest salary from the employees table without using LIMIT or OFFSET\n",
    "\n",
    "SELECT MAX(salary) \n",
    "FROM employees \n",
    "WHERE salary < (SELECT MAX(salary) FROM employees);\n"
   ]
  }
 ],
 "metadata": {
  "language_info": {
   "name": "python"
  }
 },
 "nbformat": 4,
 "nbformat_minor": 2
}
