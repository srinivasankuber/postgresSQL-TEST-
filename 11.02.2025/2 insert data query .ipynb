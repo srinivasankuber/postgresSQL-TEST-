{
 "cells": [
  {
   "cell_type": "code",
   "execution_count": null,
   "metadata": {
    "vscode": {
     "languageId": "sql"
    }
   },
   "outputs": [],
   "source": [
    "-- 2 insert data query \n",
    "\n",
    "INSERT INTO employees (name, age, department, salary, joining_date) \n",
    "VALUES\n",
    "('Arjun Kumar', 30, 'IT', 75000.50, '2022-05-15'),\n",
    "('Nikita Sharma', 27, 'HR', 50000.00, '2023-01-10'),\n",
    "('Rajesh Verma', 35, 'Finance', 90000.75, '2021-09-20'),\n",
    "('Meera Iyer', 40, 'Operations', 105000.25, '2018-07-05');\n"
   ]
  }
 ],
 "metadata": {
  "language_info": {
   "name": "python"
  }
 },
 "nbformat": 4,
 "nbformat_minor": 2
}
