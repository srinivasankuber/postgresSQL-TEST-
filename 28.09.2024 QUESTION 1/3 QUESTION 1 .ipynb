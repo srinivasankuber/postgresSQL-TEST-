{
 "cells": [
  {
   "cell_type": "code",
   "execution_count": null,
   "metadata": {},
   "outputs": [],
   "source": [
    "-- 1   find out the total marks of top 2 subjets based on marks\n",
    "\n",
    "WITH Subjects AS (\n",
    "    SELECT \n",
    "        sname,\n",
    "        sid,\n",
    "        marks,\n",
    "        ROW_NUMBER() OVER (PARTITION BY sname ORDER BY marks DESC) AS rank\n",
    "    FROM \n",
    "        subjects\n",
    ")\n",
    "SELECT \n",
    "    sname,\n",
    "    SUM(marks) AS totalmarks\n",
    "FROM \n",
    "    Subjects\n",
    "WHERE \n",
    "    rank <= 2\n",
    "GROUP BY \n",
    "    sname;"
   ]
  }
 ],
 "metadata": {
  "language_info": {
   "name": "python"
  }
 },
 "nbformat": 4,
 "nbformat_minor": 2
}
