{
 "cells": [
  {
   "cell_type": "code",
   "execution_count": null,
   "metadata": {},
   "outputs": [],
   "source": [
    "-- 2 insert data to subjects table \n",
    "\n",
    "insert into subjects\n",
    "values\n",
    "('A', 'X', 75),\n",
    "('A',  'Y', 75),\n",
    "('A', 'Z', 80),\n",
    "('B', 'X', 90),\n",
    "('B', 'Y', 91),\n",
    "('B', 'Z', 75)"
   ]
  }
 ],
 "metadata": {
  "language_info": {
   "name": "python"
  }
 },
 "nbformat": 4,
 "nbformat_minor": 2
}
