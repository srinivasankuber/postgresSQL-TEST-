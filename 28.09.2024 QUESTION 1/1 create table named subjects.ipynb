{
 "cells": [
  {
   "cell_type": "code",
   "execution_count": null,
   "metadata": {
    "vscode": {
     "languageId": "sql"
    }
   },
   "outputs": [],
   "source": [
    "-- create table subjects\n",
    "\n",
    "create table subjects\n",
    "(\n",
    "sname varchar (2),\n",
    "sid varchar (2),\n",
    "marks integer \n",
    ")\n"
   ]
  }
 ],
 "metadata": {
  "language_info": {
   "name": "python"
  }
 },
 "nbformat": 4,
 "nbformat_minor": 2
}
