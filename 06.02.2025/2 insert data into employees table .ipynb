{
 "cells": [
  {
   "cell_type": "code",
   "execution_count": null,
   "metadata": {
    "vscode": {
     "languageId": "sql"
    }
   },
   "outputs": [],
   "source": [
    "--  2 insert data into employees table\n",
    "\n",
    "INSERT INTO employees (name, age, department, salary, join_date) \n",
    "VALUES\n",
    "('Aravind', 28, 'Finance', 55000.00, '2023-03-15'),\n",
    "('Nikitha', 30, 'HR', 62000.00, '2022-07-10'),\n",
    "('Ram', 25, 'IT', 75000.00, '2021-09-25'),\n",
    "('Mark', 35, 'Finance', 68000.00, '2019-06-20'),\n",
    "('Ayesha', 27, 'HR', 58000.00, '2020-11-30');\n"
   ]
  }
 ],
 "metadata": {
  "language_info": {
   "name": "python"
  }
 },
 "nbformat": 4,
 "nbformat_minor": 2
}
