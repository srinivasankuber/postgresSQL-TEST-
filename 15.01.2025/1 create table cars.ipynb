{
 "cells": [
  {
   "cell_type": "code",
   "execution_count": null,
   "metadata": {
    "vscode": {
     "languageId": "sql"
    }
   },
   "outputs": [],
   "source": [
    "--  1 create table cars\n",
    "\n",
    "CREATE TABLE cars (\n",
    "    Car VARCHAR(100),\n",
    "    MPG DECIMAL(5, 2),\n",
    "    Cylinders INT,\n",
    "    Displacement DECIMAL(6, 2),\n",
    "    Horsepower DECIMAL(6, 2),\n",
    "    Weight DECIMAL(7, 2),\n",
    "    Acceleration DECIMAL(5, 2),\n",
    "    Modal YEAR,\n",
    "    Origin VARCHAR(50)\n",
    ");\n"
   ]
  }
 ],
 "metadata": {
  "language_info": {
   "name": "python"
  }
 },
 "nbformat": 4,
 "nbformat_minor": 2
}
