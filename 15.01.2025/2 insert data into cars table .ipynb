{
 "cells": [
  {
   "cell_type": "code",
   "execution_count": null,
   "metadata": {
    "vscode": {
     "languageId": "sql"
    }
   },
   "outputs": [],
   "source": [
    "--  2 insert data into cars table\n",
    "\n",
    "INSERT INTO cars (Car, MPG, Cylinders, Displacement, Horsepower, Weight, Acceleration, Modal, Origin) \n",
    "VALUES\n",
    "('Ford Mustang', 18.0, 8, 302.0, 140.0, 3449.0, 10.5, 1973, 'USA'),\n",
    "('Toyota Corolla', 30.5, 4, 113.0, 88.0, 2279.0, 12.5, 1975, 'Japan'),\n",
    "('Volkswagen Golf', 25.4, 4, 120.0, 90.0, 2380.0, 11.0, 1980, 'Europe'),\n",
    "('Audi 100', 20.5, 5, 130.0, 115.0, 2850.0, 10.0, 1978, 'Europe'),\n",
    "('Honda Civic', 33.0, 4, 91.0, 67.0, 1950.0, 15.0, 1979, 'Japan'),\n",
    "('Chevrolet Camaro', 15.0, 8, 350.0, 165.0, 4200.0, 8.5, 1972, 'USA');\n"
   ]
  }
 ],
 "metadata": {
  "language_info": {
   "name": "python"
  }
 },
 "nbformat": 4,
 "nbformat_minor": 2
}
