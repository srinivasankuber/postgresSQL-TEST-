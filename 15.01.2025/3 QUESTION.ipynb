{
 "cells": [
  {
   "cell_type": "code",
   "execution_count": null,
   "metadata": {
    "vscode": {
     "languageId": "sql"
    }
   },
   "outputs": [],
   "source": [
    "--  QUESTION\n",
    "\n",
    "-- Find the average MPG for each Origin where cars have more than 4 cylinders,\n",
    "--  and sort the result by average MPG in descending order.\n",
    "\n",
    "SELECT \n",
    "    Origin, \n",
    "    AVG(MPG) AS avg_mpg\n",
    "FROM \n",
    "    cars\n",
    "WHERE \n",
    "    Cylinders > 4\n",
    "GROUP BY \n",
    "    Origin\n",
    "ORDER BY \n",
    "    avg_mpg DESC;\n"
   ]
  }
 ],
 "metadata": {
  "language_info": {
   "name": "python"
  }
 },
 "nbformat": 4,
 "nbformat_minor": 2
}
