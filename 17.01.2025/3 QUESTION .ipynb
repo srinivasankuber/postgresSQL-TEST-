{
 "cells": [
  {
   "cell_type": "code",
   "execution_count": null,
   "metadata": {
    "vscode": {
     "languageId": "sql"
    }
   },
   "outputs": [],
   "source": [
    "-- QUESTION\n",
    "\n",
    "-- Write a query to calculate the total budget for all completed projects and display it as total_completed_budget.\n",
    "\n",
    "\n",
    "SELECT SUM(budget) AS total_completed_budget\n",
    "FROM projects\n",
    "WHERE status = 'completed';\n"
   ]
  }
 ],
 "metadata": {
  "language_info": {
   "name": "python"
  }
 },
 "nbformat": 4,
 "nbformat_minor": 2
}
