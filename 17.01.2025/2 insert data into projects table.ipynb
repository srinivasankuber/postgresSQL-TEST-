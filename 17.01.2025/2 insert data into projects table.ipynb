{
 "cells": [
  {
   "cell_type": "code",
   "execution_count": null,
   "metadata": {
    "vscode": {
     "languageId": "sql"
    }
   },
   "outputs": [],
   "source": [
    "--  2 insert data into projects table\n",
    "\n",
    "INSERT INTO projects (project_name, start_date, end_date, budget, status)\n",
    "VALUES\n",
    "    ('Athena Research Initiative', '2025-02-15', '2026-02-14', 300000.75, 'planned'),\n",
    "    ('Poseidon Infrastructure Overhaul', '2024-06-01', '2025-05-31', 750000.00, 'ongoing'),\n",
    "    ('Demeter Sustainability Program', '2023-03-01', '2024-02-28', 400000.50, 'completed'),\n",
    "    ('Hades Disaster Recovery', '2025-07-01', '2025-12-31', 150000.00, 'planned'),\n",
    "    ('Artemis Lunar Exploration', '2025-10-01', '2026-04-30', 850000.25, 'planned'),\n",
    "    ('Hephaestus System Optimization', '2024-03-01', '2024-12-31', 200000.00, 'ongoing'),\n",
    "    ('Ares Security Enhancement', '2023-01-15', '2023-09-15', 120000.75, 'completed');\n"
   ]
  }
 ],
 "metadata": {
  "language_info": {
   "name": "python"
  }
 },
 "nbformat": 4,
 "nbformat_minor": 2
}
