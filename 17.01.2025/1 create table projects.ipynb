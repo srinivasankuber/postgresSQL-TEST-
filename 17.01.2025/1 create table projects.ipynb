{
 "cells": [
  {
   "cell_type": "code",
   "execution_count": null,
   "metadata": {
    "vscode": {
     "languageId": "sql"
    }
   },
   "outputs": [],
   "source": [
    "--  1 create table projects\n",
    "\n",
    "CREATE TABLE projects (\n",
    "    project_id SERIAL PRIMARY KEY,\n",
    "    project_name VARCHAR(100) NOT NULL,\n",
    "    start_date DATE NOT NULL,\n",
    "    end_date DATE NOT NULL CHECK (end_date > start_date),\n",
    "    budget NUMERIC(12, 2) NOT NULL,\n",
    "    status VARCHAR(10) NOT NULL CHECK (status IN ('planned', 'ongoing', 'completed'))\n",
    ");\n"
   ]
  }
 ],
 "metadata": {
  "language_info": {
   "name": "python"
  }
 },
 "nbformat": 4,
 "nbformat_minor": 2
}
